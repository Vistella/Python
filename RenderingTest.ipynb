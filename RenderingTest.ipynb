{
 "cells": [
  {
   "cell_type": "code",
   "execution_count": 15,
   "metadata": {},
   "outputs": [],
   "source": [
    "from solid import *\n",
    "import viewscad"
   ]
  },
  {
   "cell_type": "code",
   "execution_count": 16,
   "metadata": {},
   "outputs": [
    {
     "ename": "Exception",
     "evalue": "openscad exec not found!",
     "output_type": "error",
     "traceback": [
      "\u001b[0;31m---------------------------------------------------------------------------\u001b[0m",
      "\u001b[0;31mException\u001b[0m                                 Traceback (most recent call last)",
      "\u001b[0;32m<ipython-input-16-eaf8cb6d9c45>\u001b[0m in \u001b[0;36m<module>\u001b[0;34m\u001b[0m\n\u001b[0;32m----> 1\u001b[0;31m \u001b[0mr\u001b[0m \u001b[0;34m=\u001b[0m \u001b[0mviewscad\u001b[0m\u001b[0;34m.\u001b[0m\u001b[0mRenderer\u001b[0m\u001b[0;34m(\u001b[0m\u001b[0;34m)\u001b[0m\u001b[0;34m\u001b[0m\u001b[0;34m\u001b[0m\u001b[0m\n\u001b[0m\u001b[1;32m      2\u001b[0m \u001b[0mc\u001b[0m \u001b[0;34m=\u001b[0m \u001b[0mcube\u001b[0m\u001b[0;34m(\u001b[0m\u001b[0;34m)\u001b[0m\u001b[0;34m\u001b[0m\u001b[0;34m\u001b[0m\u001b[0m\n\u001b[1;32m      3\u001b[0m \u001b[0mr\u001b[0m\u001b[0;34m.\u001b[0m\u001b[0mrender\u001b[0m\u001b[0;34m(\u001b[0m\u001b[0mc\u001b[0m\u001b[0;34m)\u001b[0m\u001b[0;34m\u001b[0m\u001b[0;34m\u001b[0m\u001b[0m\n",
      "\u001b[0;32m/usr/local/Cellar/jupyterlab/2.0.1/libexec/lib/python3.7/site-packages/viewscad/renderer.py\u001b[0m in \u001b[0;36m__init__\u001b[0;34m(self, **kw)\u001b[0m\n\u001b[1;32m    194\u001b[0m             \u001b[0mself\u001b[0m\u001b[0;34m.\u001b[0m\u001b[0m_try_detect_openscad_exec\u001b[0m\u001b[0;34m(\u001b[0m\u001b[0;34m)\u001b[0m\u001b[0;34m\u001b[0m\u001b[0;34m\u001b[0m\u001b[0m\n\u001b[1;32m    195\u001b[0m         \u001b[0;32mif\u001b[0m \u001b[0mself\u001b[0m\u001b[0;34m.\u001b[0m\u001b[0mopenscad_exec\u001b[0m \u001b[0;32mis\u001b[0m \u001b[0;32mNone\u001b[0m\u001b[0;34m:\u001b[0m\u001b[0;34m\u001b[0m\u001b[0;34m\u001b[0m\u001b[0m\n\u001b[0;32m--> 196\u001b[0;31m             \u001b[0;32mraise\u001b[0m \u001b[0mException\u001b[0m\u001b[0;34m(\u001b[0m\u001b[0;34m'openscad exec not found!'\u001b[0m\u001b[0;34m)\u001b[0m\u001b[0;34m\u001b[0m\u001b[0;34m\u001b[0m\u001b[0m\n\u001b[0m\u001b[1;32m    197\u001b[0m         \u001b[0mself\u001b[0m\u001b[0;34m.\u001b[0m\u001b[0mwidth\u001b[0m \u001b[0;34m=\u001b[0m \u001b[0mkw\u001b[0m\u001b[0;34m.\u001b[0m\u001b[0mget\u001b[0m\u001b[0;34m(\u001b[0m\u001b[0;34m'width'\u001b[0m\u001b[0;34m,\u001b[0m \u001b[0;36m600\u001b[0m\u001b[0;34m)\u001b[0m\u001b[0;34m\u001b[0m\u001b[0;34m\u001b[0m\u001b[0m\n\u001b[1;32m    198\u001b[0m         \u001b[0mself\u001b[0m\u001b[0;34m.\u001b[0m\u001b[0mheight\u001b[0m \u001b[0;34m=\u001b[0m \u001b[0mkw\u001b[0m\u001b[0;34m.\u001b[0m\u001b[0mget\u001b[0m\u001b[0;34m(\u001b[0m\u001b[0;34m'height'\u001b[0m\u001b[0;34m,\u001b[0m \u001b[0;36m600\u001b[0m\u001b[0;34m)\u001b[0m\u001b[0;34m\u001b[0m\u001b[0;34m\u001b[0m\u001b[0m\n",
      "\u001b[0;31mException\u001b[0m: openscad exec not found!"
     ]
    }
   ],
   "source": [
    "r = viewscad.Renderer()\n",
    "c = cube()\n",
    "r.render(c)"
   ]
  },
  {
   "cell_type": "code",
   "execution_count": 14,
   "metadata": {},
   "outputs": [
    {
     "name": "stdout",
     "output_type": "stream",
     "text": [
      "Collecting viewscad\n",
      "  Downloading viewscad-0.2.0-py3-none-any.whl (15 kB)\n",
      "Collecting jupyter\n",
      "  Using cached jupyter-1.0.0-py2.py3-none-any.whl (2.7 kB)\n",
      "Collecting ipywidgets\n",
      "  Using cached ipywidgets-7.5.1-py2.py3-none-any.whl (121 kB)\n",
      "Collecting pythreejs\n",
      "  Downloading pythreejs-2.2.0-py2.py3-none-any.whl (4.4 MB)\n",
      "\u001b[K     |████████████████████████████████| 4.4 MB 6.2 MB/s eta 0:00:01\n",
      "\u001b[?25hRequirement already satisfied: jupyterlab in /usr/local/Cellar/jupyterlab/2.0.1/libexec/lib/python3.7/site-packages (from viewscad) (2.0.1)\n",
      "Collecting solidpython\n",
      "  Downloading solidpython-0.4.7-py3-none-any.whl (80 kB)\n",
      "\u001b[K     |████████████████████████████████| 80 kB 5.3 MB/s  eta 0:00:01\n",
      "\u001b[?25hRequirement already satisfied: ipykernel in /usr/local/Cellar/jupyterlab/2.0.1/libexec/lib/python3.7/site-packages (from jupyter->viewscad) (5.1.4)\n",
      "Requirement already satisfied: nbconvert in /usr/local/Cellar/jupyterlab/2.0.1/libexec/lib/python3.7/site-packages (from jupyter->viewscad) (5.6.1)\n",
      "Requirement already satisfied: jupyter-console in /usr/local/Cellar/jupyterlab/2.0.1/libexec/lib/python3.7/site-packages (from jupyter->viewscad) (6.1.0)\n",
      "Collecting qtconsole\n",
      "  Using cached qtconsole-4.7.2-py2.py3-none-any.whl (117 kB)\n",
      "Requirement already satisfied: notebook in /usr/local/Cellar/jupyterlab/2.0.1/libexec/lib/python3.7/site-packages (from jupyter->viewscad) (6.0.3)\n",
      "Requirement already satisfied: traitlets>=4.3.1 in /usr/local/Cellar/jupyterlab/2.0.1/libexec/lib/python3.7/site-packages (from ipywidgets->viewscad) (4.3.3)\n",
      "Requirement already satisfied: nbformat>=4.2.0 in /usr/local/Cellar/jupyterlab/2.0.1/libexec/lib/python3.7/site-packages (from ipywidgets->viewscad) (5.0.4)\n",
      "Requirement already satisfied: ipython>=4.0.0; python_version >= \"3.3\" in /usr/local/Cellar/jupyterlab/2.0.1/libexec/lib/python3.7/site-packages (from ipywidgets->viewscad) (7.13.0)\n",
      "Collecting widgetsnbextension~=3.5.0\n",
      "  Using cached widgetsnbextension-3.5.1-py2.py3-none-any.whl (2.2 MB)\n",
      "Requirement already satisfied: numpy in /usr/local/Cellar/jupyterlab/2.0.1/libexec/lib/python3.7/site-packages (from pythreejs->viewscad) (1.18.2)\n",
      "Collecting ipydatawidgets>=1.1.1\n",
      "  Downloading ipydatawidgets-4.0.1-py2.py3-none-any.whl (250 kB)\n",
      "\u001b[K     |████████████████████████████████| 250 kB 7.3 MB/s eta 0:00:01\n",
      "\u001b[?25hRequirement already satisfied: tornado!=6.0.0,!=6.0.1,!=6.0.2 in /usr/local/Cellar/jupyterlab/2.0.1/libexec/lib/python3.7/site-packages (from jupyterlab->viewscad) (6.0.4)\n",
      "Requirement already satisfied: jupyterlab_server~=1.0.0 in /usr/local/Cellar/jupyterlab/2.0.1/libexec/lib/python3.7/site-packages (from jupyterlab->viewscad) (1.0.7)\n",
      "Requirement already satisfied: jinja2>=2.10 in /usr/local/Cellar/jupyterlab/2.0.1/libexec/lib/python3.7/site-packages (from jupyterlab->viewscad) (2.11.1)\n",
      "Collecting euclid3<0.2.0,>=0.1.0\n",
      "  Using cached euclid3-0.01.tar.gz (13 kB)\n",
      "Collecting pypng<0.0.20,>=0.0.19\n",
      "  Downloading pypng-0.0.19.tar.gz (293 kB)\n",
      "\u001b[K     |████████████████████████████████| 293 kB 7.2 MB/s eta 0:00:01\n",
      "\u001b[?25hCollecting PrettyTable==0.7.2\n",
      "  Using cached prettytable-0.7.2.tar.bz2 (21 kB)\n",
      "Collecting regex<2020.0,>=2019.4\n",
      "  Downloading regex-2019.12.20.tar.gz (679 kB)\n",
      "\u001b[K     |████████████████████████████████| 679 kB 7.1 MB/s eta 0:00:01\n",
      "\u001b[?25hRequirement already satisfied: jupyter-client in /usr/local/Cellar/jupyterlab/2.0.1/libexec/lib/python3.7/site-packages (from ipykernel->jupyter->viewscad) (6.0.0)\n",
      "Requirement already satisfied: appnope; platform_system == \"Darwin\" in /usr/local/Cellar/jupyterlab/2.0.1/libexec/lib/python3.7/site-packages (from ipykernel->jupyter->viewscad) (0.1.0)\n",
      "Requirement already satisfied: mistune<2,>=0.8.1 in /usr/local/Cellar/jupyterlab/2.0.1/libexec/lib/python3.7/site-packages (from nbconvert->jupyter->viewscad) (0.8.4)\n",
      "Requirement already satisfied: pygments in /usr/local/Cellar/jupyterlab/2.0.1/libexec/lib/python3.7/site-packages (from nbconvert->jupyter->viewscad) (2.5.2)\n",
      "Requirement already satisfied: jupyter_core in /usr/local/Cellar/jupyterlab/2.0.1/libexec/lib/python3.7/site-packages (from nbconvert->jupyter->viewscad) (4.6.3)\n",
      "Requirement already satisfied: entrypoints>=0.2.2 in /usr/local/Cellar/jupyterlab/2.0.1/libexec/lib/python3.7/site-packages (from nbconvert->jupyter->viewscad) (0.3)\n",
      "Requirement already satisfied: bleach in /usr/local/Cellar/jupyterlab/2.0.1/libexec/lib/python3.7/site-packages (from nbconvert->jupyter->viewscad) (3.1.1)\n",
      "Requirement already satisfied: pandocfilters>=1.4.1 in /usr/local/Cellar/jupyterlab/2.0.1/libexec/lib/python3.7/site-packages (from nbconvert->jupyter->viewscad) (1.4.2)\n",
      "Requirement already satisfied: testpath in /usr/local/Cellar/jupyterlab/2.0.1/libexec/lib/python3.7/site-packages (from nbconvert->jupyter->viewscad) (0.4.4)\n",
      "Requirement already satisfied: defusedxml in /usr/local/Cellar/jupyterlab/2.0.1/libexec/lib/python3.7/site-packages (from nbconvert->jupyter->viewscad) (0.6.0)\n",
      "Requirement already satisfied: prompt_toolkit!=3.0.0,!=3.0.1,<3.1.0,>=2.0.0 in /usr/local/Cellar/jupyterlab/2.0.1/libexec/lib/python3.7/site-packages (from jupyter-console->jupyter->viewscad) (3.0.4)\n",
      "Requirement already satisfied: ipython-genutils in /usr/local/Cellar/jupyterlab/2.0.1/libexec/lib/python3.7/site-packages (from qtconsole->jupyter->viewscad) (0.2.0)\n",
      "Requirement already satisfied: pyzmq>=17.1 in /usr/local/Cellar/jupyterlab/2.0.1/libexec/lib/python3.7/site-packages (from qtconsole->jupyter->viewscad) (19.0.0)\n",
      "Collecting qtpy\n",
      "  Using cached QtPy-1.9.0-py2.py3-none-any.whl (54 kB)\n",
      "Requirement already satisfied: Send2Trash in /usr/local/Cellar/jupyterlab/2.0.1/libexec/lib/python3.7/site-packages (from notebook->jupyter->viewscad) (1.5.0)\n",
      "Requirement already satisfied: terminado>=0.8.1 in /usr/local/Cellar/jupyterlab/2.0.1/libexec/lib/python3.7/site-packages (from notebook->jupyter->viewscad) (0.8.3)\n",
      "Requirement already satisfied: prometheus_client in /usr/local/Cellar/jupyterlab/2.0.1/libexec/lib/python3.7/site-packages (from notebook->jupyter->viewscad) (0.7.1)\n",
      "Requirement already satisfied: six in /usr/local/Cellar/jupyterlab/2.0.1/libexec/lib/python3.7/site-packages (from traitlets>=4.3.1->ipywidgets->viewscad) (1.14.0)\n",
      "Requirement already satisfied: decorator in /usr/local/Cellar/jupyterlab/2.0.1/libexec/lib/python3.7/site-packages (from traitlets>=4.3.1->ipywidgets->viewscad) (4.4.2)\n",
      "Requirement already satisfied: jsonschema!=2.5.0,>=2.4 in /usr/local/Cellar/jupyterlab/2.0.1/libexec/lib/python3.7/site-packages (from nbformat>=4.2.0->ipywidgets->viewscad) (3.2.0)\n",
      "Requirement already satisfied: setuptools>=18.5 in /usr/local/Cellar/jupyterlab/2.0.1/libexec/lib/python3.7/site-packages (from ipython>=4.0.0; python_version >= \"3.3\"->ipywidgets->viewscad) (45.2.0)\n",
      "Requirement already satisfied: jedi>=0.10 in /usr/local/Cellar/jupyterlab/2.0.1/libexec/lib/python3.7/site-packages (from ipython>=4.0.0; python_version >= \"3.3\"->ipywidgets->viewscad) (0.16.0)\n",
      "Requirement already satisfied: pickleshare in /usr/local/Cellar/jupyterlab/2.0.1/libexec/lib/python3.7/site-packages (from ipython>=4.0.0; python_version >= \"3.3\"->ipywidgets->viewscad) (0.7.5)\n",
      "Requirement already satisfied: backcall in /usr/local/Cellar/jupyterlab/2.0.1/libexec/lib/python3.7/site-packages (from ipython>=4.0.0; python_version >= \"3.3\"->ipywidgets->viewscad) (0.1.0)\n",
      "Requirement already satisfied: pexpect in /usr/local/Cellar/jupyterlab/2.0.1/libexec/lib/python3.7/site-packages (from ipython>=4.0.0; python_version >= \"3.3\"->ipywidgets->viewscad) (4.8.0)\n",
      "Collecting traittypes>=0.2.0\n",
      "  Downloading traittypes-0.2.1-py2.py3-none-any.whl (8.6 kB)\n",
      "Requirement already satisfied: json5 in /usr/local/Cellar/jupyterlab/2.0.1/libexec/lib/python3.7/site-packages (from jupyterlab_server~=1.0.0->jupyterlab->viewscad) (0.9.2)\n",
      "Requirement already satisfied: MarkupSafe>=0.23 in /usr/local/Cellar/jupyterlab/2.0.1/libexec/lib/python3.7/site-packages (from jinja2>=2.10->jupyterlab->viewscad) (1.1.1)\n",
      "Requirement already satisfied: python-dateutil>=2.1 in /usr/local/Cellar/jupyterlab/2.0.1/libexec/lib/python3.7/site-packages (from jupyter-client->ipykernel->jupyter->viewscad) (2.8.1)\n",
      "Requirement already satisfied: webencodings in /usr/local/Cellar/jupyterlab/2.0.1/libexec/lib/python3.7/site-packages (from bleach->nbconvert->jupyter->viewscad) (0.5.1)\n",
      "Requirement already satisfied: wcwidth in /usr/local/Cellar/jupyterlab/2.0.1/libexec/lib/python3.7/site-packages (from prompt_toolkit!=3.0.0,!=3.0.1,<3.1.0,>=2.0.0->jupyter-console->jupyter->viewscad) (0.1.8)\n",
      "Requirement already satisfied: ptyprocess; os_name != \"nt\" in /usr/local/Cellar/jupyterlab/2.0.1/libexec/lib/python3.7/site-packages (from terminado>=0.8.1->notebook->jupyter->viewscad) (0.6.0)\n",
      "Requirement already satisfied: importlib-metadata; python_version < \"3.8\" in /usr/local/Cellar/jupyterlab/2.0.1/libexec/lib/python3.7/site-packages (from jsonschema!=2.5.0,>=2.4->nbformat>=4.2.0->ipywidgets->viewscad) (1.5.0)\n"
     ]
    },
    {
     "name": "stdout",
     "output_type": "stream",
     "text": [
      "Requirement already satisfied: pyrsistent>=0.14.0 in /usr/local/Cellar/jupyterlab/2.0.1/libexec/lib/python3.7/site-packages (from jsonschema!=2.5.0,>=2.4->nbformat>=4.2.0->ipywidgets->viewscad) (0.15.7)\n",
      "Requirement already satisfied: attrs>=17.4.0 in /usr/local/Cellar/jupyterlab/2.0.1/libexec/lib/python3.7/site-packages (from jsonschema!=2.5.0,>=2.4->nbformat>=4.2.0->ipywidgets->viewscad) (19.3.0)\n",
      "Requirement already satisfied: parso>=0.5.2 in /usr/local/Cellar/jupyterlab/2.0.1/libexec/lib/python3.7/site-packages (from jedi>=0.10->ipython>=4.0.0; python_version >= \"3.3\"->ipywidgets->viewscad) (0.6.2)\n",
      "Requirement already satisfied: zipp>=0.5 in /usr/local/Cellar/jupyterlab/2.0.1/libexec/lib/python3.7/site-packages (from importlib-metadata; python_version < \"3.8\"->jsonschema!=2.5.0,>=2.4->nbformat>=4.2.0->ipywidgets->viewscad) (3.1.0)\n",
      "Building wheels for collected packages: euclid3, pypng, PrettyTable, regex\n",
      "  Building wheel for euclid3 (setup.py) ... \u001b[?25ldone\n",
      "\u001b[?25h  Created wheel for euclid3: filename=euclid3-0.1-py3-none-any.whl size=13254 sha256=149f0521bfdb6c3e68697fb9da1a8bfffbac7e4b6bbd27268038773a3637cf47\n",
      "  Stored in directory: /Users/maximilianschinke/Library/Caches/pip/wheels/1b/1b/f2/bbb2437ff6effd37fb7c2dd367810f8b0df00e019b9cbd7a19\n",
      "  Building wheel for pypng (setup.py) ... \u001b[?25ldone\n",
      "\u001b[?25h  Created wheel for pypng: filename=pypng-0.0.19-py3-none-any.whl size=53308 sha256=cd4deaedcdbbc421d27284f62def5481d9a6ee7864461f161edc9e7d6c242662\n",
      "  Stored in directory: /Users/maximilianschinke/Library/Caches/pip/wheels/4b/fe/78/9a8170cb43322626a97136062bf8d67267ae0950885850b7d0\n",
      "  Building wheel for PrettyTable (setup.py) ... \u001b[?25ldone\n",
      "\u001b[?25h  Created wheel for PrettyTable: filename=prettytable-0.7.2-py3-none-any.whl size=13698 sha256=5e061e02a491be35e22f68a7142b4ad92156fd98a9bbb32e18f19de241e723e7\n",
      "  Stored in directory: /Users/maximilianschinke/Library/Caches/pip/wheels/8c/76/0b/eb9eb3da7e2335e3577e3f96a0ae9f74f206e26457bd1a2bc8\n",
      "  Building wheel for regex (setup.py) ... \u001b[?25ldone\n",
      "\u001b[?25h  Created wheel for regex: filename=regex-2019.12.20-cp37-cp37m-macosx_10_14_x86_64.whl size=291793 sha256=2ad304a3ff45fd8f1141c8fab28e6c0ea1e8be91f24535ab6b8258002594375c\n",
      "  Stored in directory: /Users/maximilianschinke/Library/Caches/pip/wheels/36/39/a0/532d4805d0f07550bfec1a986a37bfe04a808fd197f998ec81\n",
      "Successfully built euclid3 pypng PrettyTable regex\n",
      "Installing collected packages: widgetsnbextension, ipywidgets, qtpy, qtconsole, jupyter, traittypes, ipydatawidgets, pythreejs, euclid3, pypng, PrettyTable, regex, solidpython, viewscad\n",
      "Successfully installed PrettyTable-0.7.2 euclid3-0.1 ipydatawidgets-4.0.1 ipywidgets-7.5.1 jupyter-1.0.0 pypng-0.0.19 pythreejs-2.2.0 qtconsole-4.7.2 qtpy-1.9.0 regex-2019.12.20 solidpython-0.4.7 traittypes-0.2.1 viewscad-0.2.0 widgetsnbextension-3.5.1\n"
     ]
    }
   ],
   "source": [
    "# Install a pip package in the current Jupyter kernel\n",
    "import sys\n",
    "!{sys.executable} -m pip install viewscad"
   ]
  }
 ],
 "metadata": {
  "kernelspec": {
   "display_name": "Python 3",
   "language": "python",
   "name": "python3"
  },
  "language_info": {
   "codemirror_mode": {
    "name": "ipython",
    "version": 3
   },
   "file_extension": ".py",
   "mimetype": "text/x-python",
   "name": "python",
   "nbconvert_exporter": "python",
   "pygments_lexer": "ipython3",
   "version": "3.7.7"
  }
 },
 "nbformat": 4,
 "nbformat_minor": 4
}
