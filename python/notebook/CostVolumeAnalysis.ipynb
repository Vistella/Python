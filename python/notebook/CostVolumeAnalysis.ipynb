{
 "cells": [
  {
   "cell_type": "code",
   "execution_count": 4,
   "id": "wanted-louis",
   "metadata": {},
   "outputs": [],
   "source": [
    "import csv\n",
    "import psycopg2\n",
    "from pandas import DataFrame\n",
    "import scipy.optimize\n",
    "import matplotlib.pyplot as plt\n",
    "import numpy as np\n",
    "conn = psycopg2.connect(user=\"ukvuowsb\", password=\"xOy8nq3xddLpXCYoioU2q1r9O_0iFkkt\", host=\"tai.db.elephantsql.com\",port=\"5432\",database=\"ukvuowsb\")\n",
    "cur = conn.cursor()\n",
    "\n",
    "price_material = {\"cells\":[],\"eva\":[], \"bus_ribbon\":[], \"frame\":[], \"glass\":[], \"inverter\":[], \"junction_box\":[], \"tabbing_ribbon\":[], \"tedlar\":[]}\n",
    "#Cells data\n",
    "cur.execute(\"Select price_per_unit, quote_quantity_unit from finance.quote_cells\") # where cell_type = 'Poly B'\n",
    "price_material[\"cells\"].append(DataFrame(cur.fetchall()))\n",
    "#EVA data\n",
    "cur.execute(\"Select price_per_sqm, quote_quantity_unit from finance.quote_eva\") # where thickness  = \n",
    "price_material[\"eva\"].append(DataFrame(cur.fetchall()))\n",
    "#Bus Ribbon data\n",
    "cur.execute(\"Select price_per_kg, quote_quantity_unit from finance.quote_bus_ribbon\")\n",
    "price_material[\"bus_ribbon\"].append(DataFrame(cur.fetchall()))\n",
    "#Frame data\n",
    "cur.execute(\"Select price_per_metre, quote_quantity_unit from finance.quote_frame\")\n",
    "price_material[\"frame\"].append(DataFrame(cur.fetchall()))\n",
    "#Glass data\n",
    "cur.execute(\"Select price_per_sqm, quote_quantity_unit from finance.quote_glass\")\n",
    "price_material[\"glass\"].append(DataFrame(cur.fetchall()))\n",
    "#Inverter data\n",
    "cur.execute(\"Select price_per_unit, quote_quantity_unit from finance.quote_inverter\")\n",
    "price_material[\"inverter\"].append(DataFrame(cur.fetchall()))\n",
    "#Junction_box data\n",
    "cur.execute(\"Select price_per_set, quote_quantity_unit from finance.quote_junction_box\")\n",
    "price_material[\"junction_box\"].append(DataFrame(cur.fetchall()))\n",
    "#tabbing_ribbon\n",
    "cur.execute(\"Select price_per_kg, quote_quantity_unit from finance.quote_tabbing_ribbon\")\n",
    "price_material[\"tabbing_ribbon\"].append(DataFrame(cur.fetchall()))"
   ]
  },
  {
   "cell_type": "code",
   "execution_count": 1,
   "id": "amateur-celtic",
   "metadata": {},
   "outputs": [
    {
     "ename": "UndefinedColumn",
     "evalue": "column \"price\" does not exist\nLINE 1: Select price, quote_quantity_unit from finance.quote_cells\n               ^\n",
     "output_type": "error",
     "traceback": [
      "\u001b[0;31m---------------------------------------------------------------------------\u001b[0m",
      "\u001b[0;31mUndefinedColumn\u001b[0m                           Traceback (most recent call last)",
      "\u001b[0;32m<ipython-input-1-e7255300f7be>\u001b[0m in \u001b[0;36m<module>\u001b[0;34m\u001b[0m\n\u001b[1;32m     20\u001b[0m \u001b[0;34m\u001b[0m\u001b[0m\n\u001b[1;32m     21\u001b[0m \u001b[0;32mfor\u001b[0m \u001b[0mkey\u001b[0m \u001b[0;32min\u001b[0m \u001b[0mprice_material\u001b[0m\u001b[0;34m:\u001b[0m\u001b[0;34m\u001b[0m\u001b[0;34m\u001b[0m\u001b[0m\n\u001b[0;32m---> 22\u001b[0;31m     \u001b[0mcur\u001b[0m\u001b[0;34m.\u001b[0m\u001b[0mexecute\u001b[0m\u001b[0;34m(\u001b[0m\u001b[0;34m\"Select price, quote_quantity_unit from finance.quote_{}\"\u001b[0m\u001b[0;34m.\u001b[0m\u001b[0mformat\u001b[0m\u001b[0;34m(\u001b[0m\u001b[0mkey\u001b[0m\u001b[0;34m)\u001b[0m\u001b[0;34m)\u001b[0m \u001b[0;31m# where cell_type = 'Poly B'\u001b[0m\u001b[0;34m\u001b[0m\u001b[0;34m\u001b[0m\u001b[0m\n\u001b[0m\u001b[1;32m     23\u001b[0m     \u001b[0mprice_material\u001b[0m\u001b[0;34m[\u001b[0m\u001b[0mkey\u001b[0m\u001b[0;34m]\u001b[0m\u001b[0;34m.\u001b[0m\u001b[0mappend\u001b[0m\u001b[0;34m(\u001b[0m\u001b[0mDataFrame\u001b[0m\u001b[0;34m(\u001b[0m\u001b[0mcur\u001b[0m\u001b[0;34m.\u001b[0m\u001b[0mfetchall\u001b[0m\u001b[0;34m(\u001b[0m\u001b[0;34m)\u001b[0m\u001b[0;34m)\u001b[0m\u001b[0;34m)\u001b[0m\u001b[0;34m\u001b[0m\u001b[0;34m\u001b[0m\u001b[0m\n\u001b[1;32m     24\u001b[0m \u001b[0;34m\u001b[0m\u001b[0m\n",
      "\u001b[0;31mUndefinedColumn\u001b[0m: column \"price\" does not exist\nLINE 1: Select price, quote_quantity_unit from finance.quote_cells\n               ^\n"
     ]
    }
   ],
   "source": [
    "import csv\n",
    "import psycopg2\n",
    "from pandas import DataFrame\n",
    "import scipy.optimize\n",
    "import matplotlib.pyplot as plt\n",
    "import numpy as np\n",
    "conn = psycopg2.connect(user=\"ukvuowsb\", password=\"xOy8nq3xddLpXCYoioU2q1r9O_0iFkkt\", host=\"tai.db.elephantsql.com\",port=\"5432\",database=\"ukvuowsb\")\n",
    "cur = conn.cursor()\n",
    "\n",
    "price_material = {\n",
    "    \"cells\":[],\n",
    "    \"eva\":[],\n",
    "    \"bus_ribbon\":[],\n",
    "    \"frame\":[],\n",
    "    \"glass\":[],\n",
    "    \"inverter\":[],\n",
    "    \"junction_box\":[],\n",
    "    \"tabbing_ribbon\":[],\n",
    "    \"tedlar\":[]}\n",
    "\n",
    "for key in price_material:\n",
    "    cur.execute(\"Select price, quote_quantity_unit from finance.quote_{}\".format(key)) # where cell_type = 'Poly B'\n",
    "    price_material[key].append(DataFrame(cur.fetchall()))\n",
    "\n"
   ]
  },
  {
   "cell_type": "code",
   "execution_count": 5,
   "id": "duplicate-projector",
   "metadata": {},
   "outputs": [],
   "source": [
    "#Cost fit function (exp decay)\n",
    "def monoExp(x, m, t, b):\n",
    "    return m * np.exp(-t * x) + b"
   ]
  },
  {
   "cell_type": "code",
   "execution_count": 6,
   "id": "facial-pursuit",
   "metadata": {},
   "outputs": [],
   "source": [
    "panel = {\n",
    "    \"cells\": 60,\n",
    "    \"eva\": 3.2,\n",
    "    \"bus_ribbon\":0.041,\n",
    "    \"frame\":1,\n",
    "    \"glass\":1.6,\n",
    "    \"inverter\":0.246,\n",
    "    \"junction_box\":1,\n",
    "    \"tabbing_ribbon\":0.198,\n",
    "    \"tedlar\":1.6\n",
    "}"
   ]
  },
  {
   "cell_type": "code",
   "execution_count": 7,
   "id": "verbal-pittsburgh",
   "metadata": {},
   "outputs": [
    {
     "data": {
      "image/png": "[encoded data removed]",
      "text/plain": [
       "<Figure size 432x288 with 1 Axes>"
      ]
     },
     "metadata": {
      "needs_background": "light"
     },
     "output_type": "display_data"
    },
    {
     "name": "stderr",
     "output_type": "stream",
     "text": [
      "/Library/Frameworks/Python.framework/Versions/3.8/lib/python3.8/site-packages/pandas/core/series.py:679: RuntimeWarning: overflow encountered in exp\n",
      "  result = getattr(ufunc, method)(*inputs, **kwargs)\n"
     ]
    },
    {
     "ename": "RuntimeError",
     "evalue": "Optimal parameters not found: Number of calls to function has reached maxfev = 800.",
     "output_type": "error",
     "traceback": [
      "\u001b[0;31m---------------------------------------------------------------------------\u001b[0m",
      "\u001b[0;31mRuntimeError\u001b[0m                              Traceback (most recent call last)",
      "\u001b[0;32m<ipython-input-7-1fba5b96ccd6>\u001b[0m in \u001b[0;36m<module>\u001b[0;34m\u001b[0m\n\u001b[1;32m     15\u001b[0m     \u001b[0my\u001b[0m \u001b[0;34m=\u001b[0m \u001b[0mprice_material\u001b[0m\u001b[0;34m[\u001b[0m\u001b[0mmaterial\u001b[0m\u001b[0;34m]\u001b[0m\u001b[0;34m[\u001b[0m\u001b[0;36m0\u001b[0m\u001b[0;34m]\u001b[0m\u001b[0;34m.\u001b[0m\u001b[0miloc\u001b[0m\u001b[0;34m[\u001b[0m\u001b[0;34m:\u001b[0m\u001b[0;34m,\u001b[0m\u001b[0;36m0\u001b[0m\u001b[0;34m]\u001b[0m\u001b[0;34m\u001b[0m\u001b[0;34m\u001b[0m\u001b[0m\n\u001b[1;32m     16\u001b[0m     \u001b[0mp0\u001b[0m \u001b[0;34m=\u001b[0m \u001b[0;34m(\u001b[0m\u001b[0;36m1\u001b[0m\u001b[0;34m,\u001b[0m \u001b[0;36m.1\u001b[0m\u001b[0;34m,\u001b[0m \u001b[0;36m0.5\u001b[0m\u001b[0;34m)\u001b[0m \u001b[0;31m# start with values near those we expect\u001b[0m\u001b[0;34m\u001b[0m\u001b[0;34m\u001b[0m\u001b[0m\n\u001b[0;32m---> 17\u001b[0;31m     \u001b[0mparams\u001b[0m\u001b[0;34m,\u001b[0m \u001b[0mcv\u001b[0m \u001b[0;34m=\u001b[0m \u001b[0mscipy\u001b[0m\u001b[0;34m.\u001b[0m\u001b[0moptimize\u001b[0m\u001b[0;34m.\u001b[0m\u001b[0mcurve_fit\u001b[0m\u001b[0;34m(\u001b[0m\u001b[0mmonoExp\u001b[0m\u001b[0;34m,\u001b[0m \u001b[0mx\u001b[0m\u001b[0;34m,\u001b[0m \u001b[0my\u001b[0m\u001b[0;34m,\u001b[0m \u001b[0mp0\u001b[0m\u001b[0;34m)\u001b[0m\u001b[0;34m\u001b[0m\u001b[0;34m\u001b[0m\u001b[0m\n\u001b[0m\u001b[1;32m     18\u001b[0m     \u001b[0mparamaters\u001b[0m\u001b[0;34m[\u001b[0m\u001b[0mmaterial\u001b[0m\u001b[0;34m]\u001b[0m\u001b[0;34m.\u001b[0m\u001b[0mappend\u001b[0m\u001b[0;34m(\u001b[0m\u001b[0mparams\u001b[0m\u001b[0;34m)\u001b[0m\u001b[0;34m\u001b[0m\u001b[0;34m\u001b[0m\u001b[0m\n\u001b[1;32m     19\u001b[0m     \u001b[0mplt\u001b[0m\u001b[0;34m.\u001b[0m\u001b[0mfigure\u001b[0m\u001b[0;34m(\u001b[0m\u001b[0;34m)\u001b[0m\u001b[0;34m\u001b[0m\u001b[0;34m\u001b[0m\u001b[0m\n",
      "\u001b[0;32m/Library/Frameworks/Python.framework/Versions/3.8/lib/python3.8/site-packages/scipy/optimize/minpack.py\u001b[0m in \u001b[0;36mcurve_fit\u001b[0;34m(f, xdata, ydata, p0, sigma, absolute_sigma, check_finite, bounds, method, jac, **kwargs)\u001b[0m\n\u001b[1;32m    787\u001b[0m         \u001b[0mcost\u001b[0m \u001b[0;34m=\u001b[0m \u001b[0mnp\u001b[0m\u001b[0;34m.\u001b[0m\u001b[0msum\u001b[0m\u001b[0;34m(\u001b[0m\u001b[0minfodict\u001b[0m\u001b[0;34m[\u001b[0m\u001b[0;34m'fvec'\u001b[0m\u001b[0;34m]\u001b[0m \u001b[0;34m**\u001b[0m \u001b[0;36m2\u001b[0m\u001b[0;34m)\u001b[0m\u001b[0;34m\u001b[0m\u001b[0;34m\u001b[0m\u001b[0m\n\u001b[1;32m    788\u001b[0m         \u001b[0;32mif\u001b[0m \u001b[0mier\u001b[0m \u001b[0;32mnot\u001b[0m \u001b[0;32min\u001b[0m \u001b[0;34m[\u001b[0m\u001b[0;36m1\u001b[0m\u001b[0;34m,\u001b[0m \u001b[0;36m2\u001b[0m\u001b[0;34m,\u001b[0m \u001b[0;36m3\u001b[0m\u001b[0;34m,\u001b[0m \u001b[0;36m4\u001b[0m\u001b[0;34m]\u001b[0m\u001b[0;34m:\u001b[0m\u001b[0;34m\u001b[0m\u001b[0;34m\u001b[0m\u001b[0m\n\u001b[0;32m--> 789\u001b[0;31m             \u001b[0;32mraise\u001b[0m \u001b[0mRuntimeError\u001b[0m\u001b[0;34m(\u001b[0m\u001b[0;34m\"Optimal parameters not found: \"\u001b[0m \u001b[0;34m+\u001b[0m \u001b[0merrmsg\u001b[0m\u001b[0;34m)\u001b[0m\u001b[0;34m\u001b[0m\u001b[0;34m\u001b[0m\u001b[0m\n\u001b[0m\u001b[1;32m    790\u001b[0m     \u001b[0;32melse\u001b[0m\u001b[0;34m:\u001b[0m\u001b[0;34m\u001b[0m\u001b[0;34m\u001b[0m\u001b[0m\n\u001b[1;32m    791\u001b[0m         \u001b[0;31m# Rename maxfev (leastsq) to max_nfev (least_squares), if specified.\u001b[0m\u001b[0;34m\u001b[0m\u001b[0;34m\u001b[0m\u001b[0;34m\u001b[0m\u001b[0m\n",
      "\u001b[0;31mRuntimeError\u001b[0m: Optimal parameters not found: Number of calls to function has reached maxfev = 800."
     ]
    }
   ],
   "source": [
    "paramaters = {\n",
    "    \"cells\":[],\n",
    "    \"eva\":[],\n",
    "    \"bus_ribbon\":[],\n",
    "    \"frame\":[],\n",
    "    \"glass\":[],\n",
    "    \"inverter\":[],\n",
    "    \"junction_box\":[],\n",
    "    \"tabbing_ribbon\":[],\n",
    "    \"tedlar\":[]}\n",
    "\n",
    "k = np.arange(10, 5000, 10) #plot range\n",
    "for material in price_material:\n",
    "    x = price_material[material][0].iloc[:,1]\n",
    "    y = price_material[material][0].iloc[:,0]\n",
    "    p0 = (1, .1, 0.5) # start with values near those we expect\n",
    "    params, cv = scipy.optimize.curve_fit(monoExp, x, y, p0)\n",
    "    paramaters[material].append(params)\n",
    "    plt.figure()\n",
    "    plt.plot(k, paramaters[material][0][0] * np.exp(-paramaters[material][0][1] * k) + paramaters[material][0][2], 'r--',x,y, 'bs')\n",
    "    plt.axis([0, 5000, 0, 2])\n",
    "    plt.show()"
   ]
  },
  {
   "cell_type": "code",
   "execution_count": 8,
   "id": "cheap-institute",
   "metadata": {},
   "outputs": [],
   "source": [
    "quantity_panels = 0"
   ]
  },
  {
   "cell_type": "code",
   "execution_count": 9,
   "id": "broadband-accident",
   "metadata": {},
   "outputs": [
    {
     "ename": "IndexError",
     "evalue": "list index out of range",
     "output_type": "error",
     "traceback": [
      "\u001b[0;31m---------------------------------------------------------------------------\u001b[0m",
      "\u001b[0;31mIndexError\u001b[0m                                Traceback (most recent call last)",
      "\u001b[0;32m<ipython-input-9-bda7bc8310df>\u001b[0m in \u001b[0;36m<module>\u001b[0;34m\u001b[0m\n\u001b[1;32m      1\u001b[0m \u001b[0mprice_panel\u001b[0m \u001b[0;34m=\u001b[0m \u001b[0;36m0\u001b[0m\u001b[0;34m\u001b[0m\u001b[0;34m\u001b[0m\u001b[0m\n\u001b[1;32m      2\u001b[0m \u001b[0;32mfor\u001b[0m \u001b[0mmaterial\u001b[0m \u001b[0;32min\u001b[0m \u001b[0mpanel\u001b[0m\u001b[0;34m:\u001b[0m\u001b[0;34m\u001b[0m\u001b[0;34m\u001b[0m\u001b[0m\n\u001b[0;32m----> 3\u001b[0;31m     \u001b[0mprice_panel\u001b[0m \u001b[0;34m+=\u001b[0m \u001b[0mpanel\u001b[0m\u001b[0;34m[\u001b[0m\u001b[0mmaterial\u001b[0m\u001b[0;34m]\u001b[0m\u001b[0;34m*\u001b[0m \u001b[0;34m(\u001b[0m\u001b[0mparamaters\u001b[0m\u001b[0;34m[\u001b[0m\u001b[0mmaterial\u001b[0m\u001b[0;34m]\u001b[0m\u001b[0;34m[\u001b[0m\u001b[0;36m0\u001b[0m\u001b[0;34m]\u001b[0m\u001b[0;34m[\u001b[0m\u001b[0;36m0\u001b[0m\u001b[0;34m]\u001b[0m \u001b[0;34m*\u001b[0m \u001b[0mnp\u001b[0m\u001b[0;34m.\u001b[0m\u001b[0mexp\u001b[0m\u001b[0;34m(\u001b[0m\u001b[0;34m-\u001b[0m\u001b[0mparamaters\u001b[0m\u001b[0;34m[\u001b[0m\u001b[0mmaterial\u001b[0m\u001b[0;34m]\u001b[0m\u001b[0;34m[\u001b[0m\u001b[0;36m0\u001b[0m\u001b[0;34m]\u001b[0m\u001b[0;34m[\u001b[0m\u001b[0;36m1\u001b[0m\u001b[0;34m]\u001b[0m \u001b[0;34m*\u001b[0m \u001b[0mquantity_panels\u001b[0m\u001b[0;34m)\u001b[0m \u001b[0;34m+\u001b[0m \u001b[0mparamaters\u001b[0m\u001b[0;34m[\u001b[0m\u001b[0mmaterial\u001b[0m\u001b[0;34m]\u001b[0m\u001b[0;34m[\u001b[0m\u001b[0;36m0\u001b[0m\u001b[0;34m]\u001b[0m\u001b[0;34m[\u001b[0m\u001b[0;36m2\u001b[0m\u001b[0;34m]\u001b[0m\u001b[0;34m)\u001b[0m\u001b[0;34m\u001b[0m\u001b[0;34m\u001b[0m\u001b[0m\n\u001b[0m\u001b[1;32m      4\u001b[0m \u001b[0mprint\u001b[0m\u001b[0;34m(\u001b[0m\u001b[0mprice_panel\u001b[0m\u001b[0;34m)\u001b[0m\u001b[0;34m\u001b[0m\u001b[0;34m\u001b[0m\u001b[0m\n",
      "\u001b[0;31mIndexError\u001b[0m: list index out of range"
     ]
    }
   ],
   "source": [
    "price_panel = 0\n",
    "for material in panel:\n",
    "    price_panel += panel[material]* (paramaters[material][0][0] * np.exp(-paramaters[material][0][1] * quantity_panels) + paramaters[material][0][2])\n",
    "print(price_panel)"
   ]
  },
  {
   "cell_type": "code",
   "execution_count": 7,
   "id": "chief-davis",
   "metadata": {},
   "outputs": [
    {
     "data": {
      "image/png": "[encoded data removed]",
      "text/plain": [
       "<Figure size 432x288 with 1 Axes>"
      ]
     },
     "metadata": {
      "needs_background": "light"
     },
     "output_type": "display_data"
    }
   ],
   "source": [
    "k = np.arange(10, 1000, 10) #plot range\n",
    "funcCells = paramaters[\"cells\"][0][0] * np.exp(-paramaters[\"cells\"][0][1] * k) + paramaters[\"cells\"][0][2]\n",
    "funcEva = paramaters[\"eva\"][0][0] * np.exp(-paramaters[\"eva\"][0][1] * k) + paramaters[\"eva\"][0][2]\n",
    "plt.figure()\n",
    "plt.plot(k, (funcCells + funcEva)*k, 'r--','bs')\n",
    "plt.axis([0, 1000, 0, 1000])\n",
    "plt.show()"
   ]
  },
  {
   "cell_type": "code",
   "execution_count": 1,
   "id": "integrated-heather",
   "metadata": {},
   "outputs": [],
   "source": [
    "a = 0"
   ]
  },
  {
   "cell_type": "code",
   "execution_count": 2,
   "id": "f7fdf601",
   "metadata": {},
   "outputs": [
    {
     "data": {
      "text/plain": [
       "1"
      ]
     },
     "execution_count": 2,
     "metadata": {},
     "output_type": "execute_result"
    }
   ],
   "source": [
    "a + 1"
   ]
  },
  {
   "cell_type": "code",
   "execution_count": null,
   "id": "f9482bfc",
   "metadata": {},
   "outputs": [],
   "source": []
  }
 ],
 "metadata": {
  "kernelspec": {
   "display_name": "Python 3",
   "language": "python",
   "name": "python3"
  },
  "language_info": {
   "codemirror_mode": {
    "name": "ipython",
    "version": 3
   },
   "file_extension": ".py",
   "mimetype": "text/x-python",
   "name": "python",
   "nbconvert_exporter": "python",
   "pygments_lexer": "ipython3",
   "version": "3.9.5"
  }
 },
 "nbformat": 4,
 "nbformat_minor": 5
}
