{
 "cells": [
  {
   "cell_type": "code",
   "execution_count": 38,
   "id": "saving-chosen",
   "metadata": {},
   "outputs": [],
   "source": [
    "from IPython.display import Image \n",
    "from PIL import Image\n",
    "from PIL import ImageFont\n",
    "from PIL import ImageDraw\n",
    "from PIL import ImageOps\n",
    "import qrcode\n",
    "\n",
    "for stringId in range(1,10):\n",
    "    qrCodeString = 's' + f'{stringId:05d}' #format for string labels is s00001 to distinguish from 000001 for panels\n",
    "    qrCodeSize = 5\n",
    "    qr = qrcode.QRCode(\n",
    "        version=1,\n",
    "        error_correction=qrcode.constants.ERROR_CORRECT_L,\n",
    "        box_size= qrCodeSize,\n",
    "        border=0,\n",
    "    )\n",
    "    qr.add_data(qrCodeString)\n",
    "    qr.make(fit=True)\n",
    "\n",
    "    qrCode = qr.make_image(fill_color=\"black\", back_color=\"white\")\n",
    "    font = ImageFont.truetype(\"/Library/Fonts/Microsoft/Arial.ttf\",15)\n",
    "\n",
    "    background = Image.new(\"RGB\", (130,140), (255, 255, 255))\n",
    "    txt=Image.new('L', (220,50))\n",
    "    d = ImageDraw.Draw(txt)\n",
    "    d.text( (0, 0), \"string_id \" + qrCodeString,  font=font, fill=255)\n",
    "    #w=txt.rotate(90,  expand=1)\n",
    "\n",
    "    background.paste(qrCode, (10, 10))\n",
    "    draw = ImageDraw.Draw(background)\n",
    "    background.paste(ImageOps.colorize(txt, (0,0,0), (0,0,0)), (10, 120),  txt)\n",
    "    #background.show()\n",
    "    background = background.save(\"Labels/\" + qrCodeString + \".pdf\")"
   ]
  },
  {
   "cell_type": "code",
   "execution_count": 40,
   "id": "nonprofit-syndication",
   "metadata": {},
   "outputs": [],
   "source": [
    "from PyPDF2 import PdfFileMerger\n",
    "pdfs = [\"Labels/s\" + f'{stringId:05d}' + \".pdf\" for stringId in range(1,10)]\n",
    "\n",
    "merger = PdfFileMerger()\n",
    "\n",
    "for pdf in pdfs:\n",
    "    merger.append(pdf)\n",
    "\n",
    "merger.write(\"allLabels.pdf\")\n",
    "merger.close()"
   ]
  },
  {
   "cell_type": "code",
   "execution_count": null,
   "id": "warming-china",
   "metadata": {},
   "outputs": [],
   "source": []
  }
 ],
 "metadata": {
  "kernelspec": {
   "display_name": "Python 3 (ipykernel)",
   "language": "python",
   "name": "python3"
  },
  "language_info": {
   "codemirror_mode": {
    "name": "ipython",
    "version": 3
   },
   "file_extension": ".py",
   "mimetype": "text/x-python",
   "name": "python",
   "nbconvert_exporter": "python",
   "pygments_lexer": "ipython3",
   "version": "3.9.7"
  }
 },
 "nbformat": 4,
 "nbformat_minor": 5
}
