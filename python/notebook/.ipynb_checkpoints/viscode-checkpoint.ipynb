{
 "cells": [
  {
   "cell_type": "code",
   "execution_count": 1,
   "metadata": {},
   "outputs": [
    {
     "name": "stdout",
     "output_type": "stream",
     "text": [
      "Connecting to wss://anvil.works/uplink\n",
      "Anvil websocket open\n",
      "Authenticated OK\n"
     ]
    }
   ],
   "source": [
    "import anvil.server\n",
    "\n",
    "anvil.server.connect(\"7WL7UQ2JVJJGQMZESH32T5PF-G37I6CATNM2222EM\")"
   ]
  },
  {
   "cell_type": "code",
   "execution_count": 2,
   "metadata": {},
   "outputs": [],
   "source": [
    "lat = 32.661343\n",
    "lon = 51.680374\n",
    "#Very slow\n",
    "from pysolar.solar import *\n",
    "import pytz\n",
    "import datetime\n",
    "import numpy as np\n",
    "import pandas as pd\n",
    "\n",
    "#Input\n",
    "date = datetime.datetime(2017,1,1,12,0,0,0, pytz.UTC)\n",
    "date_end = datetime.datetime(2018,1,12,0,0,0,0, pytz.UTC)\n",
    "time_delta = datetime.timedelta(seconds = 3600 )\n",
    "#print(get_azimuth(lat, lot, date))\n",
    "\n",
    "# Creating an empty list\n",
    "times = []\n",
    "\n",
    "def azimuth(date):\n",
    "    return get_azimuth(lat, lon, date)\n",
    "\n",
    "def elevation(date):\n",
    "    return get_altitude(lat, lon, date)\n",
    "\n",
    "azimuth = np.vectorize(azimuth)\n",
    "elevation = np.vectorize(elevation)\n",
    "\n",
    "steps = int((date_end-date) / time_delta)\n",
    "for step in range(0, steps):\n",
    "    date += time_delta\n",
    "    times.append(date)\n",
    "#coord.append([get_altitude(32.661343, 51.680374, date), get_azimuth(32.661343, 51.680374, date)])\n",
    "\n",
    "times = np.asarray(times)\n",
    "result_array = np.array([times, elevation(times), azimuth(times)]).transpose()\n",
    "#print(get_azimuth(32.661343, 51.680374, df.iloc[0,0].to_datetime()))\n",
    "df = pd.DataFrame(data=result_array, columns = [\"Time\", \"Elevation\", \"Azimuth\"])\n",
    "#print(df.head())"
   ]
  },
  {
   "cell_type": "code",
   "execution_count": 3,
   "metadata": {},
   "outputs": [],
   "source": [
    "from scipy.optimize import minimize\n",
    "\n",
    "@anvil.server.callable\n",
    "def output(area):\n",
    "    df[\"Elevation\"] = df[\"Elevation\"].astype(np.float64)\n",
    "    df[\"Azimuth\"] = df[\"Azimuth\"].astype(np.float64)\n",
    "    df.loc[df[\"Elevation\"] >= 0, \"x_pos\"] = math.cos(math.radians(df[\"Elevation\"]))*math.sin(math.radians(df[\"Azimuth\"]))\n",
    "    df.loc[df[\"Elevation\"] >= 0, \"y_pos\"] = math.cos(math.radians(df[\"Elevation\"]))*math.cos(math.radians(df[\"Azimuth\"]))\n",
    "    df.loc[df[\"Elevation\"] >= 0, \"z_pos\"] = math.sin(math.radians(df[\"Elevation\"]))\n",
    "    df.loc[df[\"Elevation\"] >= 0, \"Irradiance\"] = 1045 * math.cos(math.pi/2 - math.radians(df[\"Elevation\"]))**1.15\n",
    "    \n",
    "    panel_orientation = [32, 120]\n",
    "    res = minimize(power_extraction, panel_orientation, method='SLSQP')\n",
    "    #the optimal panel orientation\n",
    "    panel_orientation = res.x\n",
    "    energy_sqm_yearly = -res.fun*3600 #because its on an hourly basis\n",
    "    panel_density = 0.52 #sqm panel per sqm area, from excel sheet, we could optimize the row spacing here as well if we wanted to\n",
    "    efficiency = 0.14 #panel efficiency\n",
    "    energy_out_area_yearly = energy_sqm_yearly*panel_density*area*efficiency\n",
    "    kWh = energy_out_area_yearly/1000/3600 #kWh\n",
    "    #print(\"Energy Output per Year: {:,.2f} MWh\".format(kWh/1000))\n",
    "    infeed_tariff = 0.2 #USD/kwH\n",
    "    #print(\"Expected Revenue per Year: {:,.0f} USD\".format(kWh*infeed_tariff))\n",
    "    revenue = kWh*infeed_tariff\n",
    "    return kWh, revenue\n",
    "    \n",
    "    \n",
    "def power_extraction(panel_orientation):\n",
    "    elevation = panel_orientation[0]\n",
    "    azimuth = panel_orientation[1]\n",
    "    x = math.cos(math.radians(elevation))*math.sin(math.radians(azimuth))\n",
    "    y = math.cos(math.radians(elevation))*math.cos(math.radians(azimuth))\n",
    "    z = math.sin(math.radians(elevation))\n",
    "    scalar_product = df[\"x_pos\"]*x + df[\"y_pos\"]*y + df[\"z_pos\"]*z\n",
    "    power_out = df[\"Irradiance\"].copy()\n",
    "    power_out[scalar_product > 0] = scalar_product*df[\"Irradiance\"]\n",
    "    power_out[scalar_product <= 0] = 0\n",
    "    total_power = power_out.sum()\n",
    "    return -total_power\n",
    "#this is a comment"
   ]
  },
  {
   "cell_type": "code",
   "execution_count": null,
   "metadata": {},
   "outputs": [],
   "source": [
    "\n",
    "\n"
   ]
  },
  {
   "cell_type": "code",
   "execution_count": 4,
   "metadata": {},
   "outputs": [],
   "source": [
    "#df.loc[df[\"Elevation\"] >= 0, \"Effective_Elevation\"] = math.degrees(math.atan(math.tan(math.radians(df[\"Elevation\"]))/math.cos(math.radians(180-df[\"Azimuth\"]))))"
   ]
  },
  {
   "cell_type": "code",
   "execution_count": 5,
   "metadata": {},
   "outputs": [],
   "source": [
    "import folium\n",
    "from folium import plugins\n",
    "import ipywidgets\n",
    "import geocoder\n",
    "import geopy\n",
    "from IPython.display import display"
   ]
  },
  {
   "cell_type": "code",
   "execution_count": 6,
   "metadata": {},
   "outputs": [
    {
     "data": {
      "application/vnd.jupyter.widget-view+json": {
       "model_id": "eca292162f774c649a4a581b959dd1b9",
       "version_major": 2,
       "version_minor": 0
      },
      "text/plain": [
       "Map(bounce_at_zoom_limits=False, center=[32.661343, 51.680374], controls=(ZoomControl(options=['position', 'zo…"
      ]
     },
     "metadata": {},
     "output_type": "display_data"
    }
   ],
   "source": [
    "def PolyArea(x,y):\n",
    "    return 0.5*np.abs(np.dot(x,np.roll(y,1))-np.dot(y,np.roll(x,1)))\n",
    "\n",
    "from ipyleaflet import Map, basemaps, basemap_to_tiles, DrawControl,WidgetControl\n",
    "from ipywidgets import IntSlider, ColorPicker, jslink\n",
    "m = Map(center=(lat, lon), basemap=basemaps.Esri.WorldImagery, bounce_at_zoom_limits = False, maxZoom = 10)\n",
    "zoom_slider = IntSlider(description='Zoom level:', min=0, max=18, value=12)\n",
    "jslink((zoom_slider, 'value'), (m, 'zoom'))\n",
    "widget_control1 = WidgetControl(widget=zoom_slider, position='topright')\n",
    "m.add_control(widget_control1)\n",
    "\n",
    "draw_control = DrawControl()\n",
    "draw_control.polyline =  {\n",
    "    \"shapeOptions\": {\n",
    "        \"color\": \"#6bc2e5\",\n",
    "        \"weight\": 8,\n",
    "        \"opacity\": 1.0\n",
    "    }\n",
    "}\n",
    "draw_control.polygon = {\n",
    "    \"shapeOptions\": {\n",
    "        \"fillColor\": \"#6be5c3\",\n",
    "        \"color\": \"#6be5c3\",\n",
    "        \"fillOpacity\": 1.0\n",
    "    },\n",
    "    \"drawError\": {\n",
    "        \"color\": \"#dd253b\",\n",
    "        \"message\": \"Oups!\"\n",
    "    },\n",
    "    \"allowIntersection\": False\n",
    "\n",
    "}\n",
    "\n",
    "m.add_control(draw_control)\n",
    "def handle_draw(self, action, geo_json):\n",
    "    global coordinates\n",
    "    coordinates = geo_json[\"geometry\"][\"coordinates\"]\n",
    "\n",
    "\n",
    "draw_control.on_draw(handle_draw)\n",
    "display(m)"
   ]
  },
  {
   "cell_type": "code",
   "execution_count": 8,
   "metadata": {},
   "outputs": [],
   "source": [
    "@anvil.server.callable\n",
    "def mapplot():\n",
    "    m = Map(center=(lat, lon), basemap=basemaps.Esri.WorldImagery, bounce_at_zoom_limits = False, maxZoom = 10)\n",
    "    display(m)"
   ]
  },
  {
   "cell_type": "code",
   "execution_count": 9,
   "metadata": {},
   "outputs": [],
   "source": [
    "from geopy.geocoders import Nominatim\n",
    "@anvil.server.callable\n",
    "def get_coord(name):\n",
    "    gc = Nominatim(user_agent=\"test\")\n",
    "    location = gc.geocode(name)\n",
    "    return location.latitude, location.longitude\n"
   ]
  },
  {
   "cell_type": "code",
   "execution_count": null,
   "metadata": {},
   "outputs": [],
   "source": []
  },
  {
   "cell_type": "code",
   "execution_count": null,
   "metadata": {},
   "outputs": [],
   "source": []
  }
 ],
 "metadata": {
  "kernelspec": {
   "display_name": "Python 3",
   "language": "python",
   "name": "python3"
  },
  "language_info": {
   "codemirror_mode": {
    "name": "ipython",
    "version": 3
   },
   "file_extension": ".py",
   "mimetype": "text/x-python",
   "name": "python",
   "nbconvert_exporter": "python",
   "pygments_lexer": "ipython3",
   "version": "3.7.6"
  }
 },
 "nbformat": 4,
 "nbformat_minor": 4
}
