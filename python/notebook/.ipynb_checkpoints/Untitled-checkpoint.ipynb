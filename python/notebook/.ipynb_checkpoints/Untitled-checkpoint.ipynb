{
 "cells": [
  {
   "cell_type": "code",
   "execution_count": 1,
   "id": "dbf1310c",
   "metadata": {},
   "outputs": [
    {
     "name": "stdout",
     "output_type": "stream",
     "text": [
      "{'data': [{'plantMoneyText': '96.5 ', 'plantName': 'Farm1', 'plantId': '1348164', 'isHaveStorage': 'false', 'todayEnergy': '126.4 kWh', 'totalEnergy': '1.61 MWh', 'currentPower': '0 W'}], 'totalData': {'currentPowerSum': '0 W', 'CO2Sum': '0 T', 'isHaveStorage': 'false', 'eTotalMoneyText': '96.5 ', 'todayEnergySum': '126.4 kWh', 'totalEnergySum': '1.61 MWh'}, 'success': True}\n"
     ]
    }
   ],
   "source": [
    "import growattServer\n",
    "\n",
    "api = growattServer.GrowattApi()\n",
    "login_response = api.login('vistella', 'vistella1234')\n",
    "#Get a list of growatt plants.\n",
    "print(api.plant_list(login_response['user']['id']))"
   ]
  },
  {
   "cell_type": "code",
   "execution_count": 7,
   "id": "1b926b25",
   "metadata": {
    "scrolled": false
   },
   "outputs": [
    {
     "name": "stdout",
     "output_type": "stream",
     "text": [
      "{'plantMoneyText': '7.7/$', 'optimizerType': 0, 'ammeterType': '0', 'storagePgrid': '0', 'todayEnergy': '128.8', 'storageTodayPpv': '0', 'invTodayPpv': '28829.6', 'totalEnergy': '1611', 'nominalPower': 50000, 'todayDischarge': '0', 'Co2Reduction': '0', 'isHaveOptimizer': 0, 'storagePuser': '0', 'useEnergy': '0', 'totalMoneyText': '96.66', 'nominal_Power': 50000, 'deviceList': [{'lost': False, 'location': '', 'eToday': '128.8', 'datalogSn': 'XGD4A337PJ', 'deviceSn': 'QQG1A2900L', 'deviceStatus': 2, 'type': '0', 'powerStr': '28.83kW', 'eTodayStr': '128.8kWh', 'invType': '1', 'deviceAilas': 'QQG1A2900L', 'deviceType': 'inverter', 'power': '28829.6', 'energy': '1611'}], 'isHavePumper': '0'}\n"
     ]
    }
   ],
   "source": [
    "plant_info=api.plant_info(1348164)\n",
    "print(plant_info)\n",
    "https://server.growatt.com/panelB.do/getInvRealTimeCharts?plantId=1348164&date=2022-07-09"
   ]
  },
  {
   "cell_type": "code",
   "execution_count": 73,
   "id": "e4ef155c",
   "metadata": {},
   "outputs": [],
   "source": [
    "import requests\n",
    "import json\n",
    "from datetime import date, datetime\n",
    "\n",
    "today = date.today()\n",
    "\n",
    "# dd/mm/YY\n",
    "d1 = today.strftime(\"%Y-%m-%d\")\n",
    "url = \"https://server.growatt.com/panelB.do/getInvRealTimeCharts?plantId=1348164&date=\" + d1\n",
    "\n",
    "payload={}\n",
    "headers = {\n",
    "  'authority': 'server.growatt.com',\n",
    "  'accept': 'text/html,application/xhtml+xml,application/xml;q=0.9,image/avif,image/webp,image/apng,*/*;q=0.8,application/signed-exchange;v=b3;q=0.9',\n",
    "  'accept-language': 'en-GB,en-US;q=0.9,en;q=0.8,de;q=0.7',\n",
    "  'cache-control': 'max-age=0',\n",
    "  'cookie': 'JSESSIONID=697F6CFF03CBE94194570A85E6A9539A; loginPage=login.do; termsLogoName=logo.png; termsCName=Growatt; termsSName=ShineServer; selectedUserId=1621469; selectedPlantId=1348164; SERVERID=7a64d333cd3c577f6b5bb0f1d4c58fd5|1657447977|1657447040; JSESSIONID=4BD3407D9F23A650EB2577DAC6F50E94; SERVERID=7a64d333cd3c577f6b5bb0f1d4c58fd5|1657448349|1657447040',\n",
    "  'sec-ch-ua': '\" Not A;Brand\";v=\"99\", \"Chromium\";v=\"102\", \"Google Chrome\";v=\"102\"',\n",
    "  'sec-ch-ua-mobile': '?0',\n",
    "  'sec-ch-ua-platform': '\"macOS\"',\n",
    "  'sec-fetch-dest': 'document',\n",
    "  'sec-fetch-mode': 'navigate',\n",
    "  'sec-fetch-site': 'none',\n",
    "  'sec-fetch-user': '?1',\n",
    "  'upgrade-insecure-requests': '1',\n",
    "  'user-agent': 'Mozilla/5.0 (Macintosh; Intel Mac OS X 10_15_7) AppleWebKit/537.36 (KHTML, like Gecko) Chrome/102.0.0.0 Safari/537.36'\n",
    "}\n",
    "\n",
    "response = requests.request(\"GET\", url, headers=headers, data=payload)\n",
    "test = json.loads(response.text)\n",
    "test2 = json.loads(test[\"chartData\"])\n"
   ]
  },
  {
   "cell_type": "code",
   "execution_count": 74,
   "id": "b0c3a8fd",
   "metadata": {},
   "outputs": [
    {
     "name": "stdout",
     "output_type": "stream",
     "text": [
      "[(datetime.datetime(2022, 7, 10, 10, 10), 17766.6015625), (datetime.datetime(2022, 7, 10, 18, 35), None), (datetime.datetime(2022, 7, 10, 10, 15), 18438.666015625), (datetime.datetime(2022, 7, 10, 18, 30), None), (datetime.datetime(2022, 7, 10, 21, 35), None), (datetime.datetime(2022, 7, 10, 15, 45), 23339.53125), (datetime.datetime(2022, 7, 10, 21, 30), None), (datetime.datetime(2022, 7, 10, 15, 40), 23820.568359375), (datetime.datetime(2022, 7, 10, 1, 45), None), (datetime.datetime(2022, 7, 10, 16, 0), 21792), (datetime.datetime(2022, 7, 10, 23, 25), None), (datetime.datetime(2022, 7, 10, 16, 5), 21364.298828125), (datetime.datetime(2022, 7, 10, 10, 5), 17138.06640625), (datetime.datetime(2022, 7, 10, 1, 40), None), (datetime.datetime(2022, 7, 10, 23, 20), None), (datetime.datetime(2022, 7, 10, 18, 45), None), (datetime.datetime(2022, 7, 10, 10, 20), 19008.265625), (datetime.datetime(2022, 7, 10, 2, 50), None), (datetime.datetime(2022, 7, 10, 10, 25), 19553.533203125), (datetime.datetime(2022, 7, 10, 21, 25), None), (datetime.datetime(2022, 7, 10, 15, 55), 22221.068359375), (datetime.datetime(2022, 7, 10, 2, 55), None), (datetime.datetime(2022, 7, 10, 15, 50), 22806.568359375), (datetime.datetime(2022, 7, 10, 21, 20), None), (datetime.datetime(2022, 7, 10, 23, 35), None), (datetime.datetime(2022, 7, 10, 1, 55), None), (datetime.datetime(2022, 7, 10, 18, 40), None), (datetime.datetime(2022, 7, 10, 23, 30), None), (datetime.datetime(2022, 7, 10, 1, 50), None), (datetime.datetime(2022, 7, 10, 18, 55), None), (datetime.datetime(2022, 7, 10, 12, 0), 26717.8671875), (datetime.datetime(2022, 7, 10, 21, 10), None), (datetime.datetime(2022, 7, 10, 12, 5), 27118.431640625), (datetime.datetime(2022, 7, 10, 21, 15), None), (datetime.datetime(2022, 7, 10, 21, 5), None), (datetime.datetime(2022, 7, 10, 3, 0), None), (datetime.datetime(2022, 7, 10, 23, 45), None), (datetime.datetime(2022, 7, 10, 3, 5), None), (datetime.datetime(2022, 7, 10, 23, 40), None), (datetime.datetime(2022, 7, 10, 18, 50), None), (datetime.datetime(2022, 7, 10, 10, 0), 16603.033203125), (datetime.datetime(2022, 7, 10, 21, 0), None), (datetime.datetime(2022, 7, 10, 22, 55), None), (datetime.datetime(2022, 7, 10, 3, 10), None), (datetime.datetime(2022, 7, 10, 6, 0), 0), (datetime.datetime(2022, 7, 10, 23, 55), None), (datetime.datetime(2022, 7, 10, 23, 50), None), (datetime.datetime(2022, 7, 10, 3, 15), None), (datetime.datetime(2022, 7, 10, 6, 5), 54.599998474121094), (datetime.datetime(2022, 7, 10, 22, 50), None), (datetime.datetime(2022, 7, 10, 15, 0), 26248.265625), (datetime.datetime(2022, 7, 10, 19, 35), None), (datetime.datetime(2022, 7, 10, 10, 50), 22101.900390625), (datetime.datetime(2022, 7, 10, 20, 50), None), (datetime.datetime(2022, 7, 10, 10, 55), 22520.568359375), (datetime.datetime(2022, 7, 10, 17, 35), None), (datetime.datetime(2022, 7, 10, 11, 15), 23942.666015625), (datetime.datetime(2022, 7, 10, 11, 10), 23627.201171875), (datetime.datetime(2022, 7, 10, 20, 55), None), (datetime.datetime(2022, 7, 10, 8, 30), 3303.300048828125), (datetime.datetime(2022, 7, 10, 15, 5), 25983.068359375), (datetime.datetime(2022, 7, 10, 17, 30), None), (datetime.datetime(2022, 7, 10, 8, 35), 3241.966796875), (datetime.datetime(2022, 7, 10, 14, 0), 28886.568359375), (datetime.datetime(2022, 7, 10, 1, 0), None), (datetime.datetime(2022, 7, 10, 16, 40), None), (datetime.datetime(2022, 7, 10, 16, 45), None), (datetime.datetime(2022, 7, 10, 1, 5), None), (datetime.datetime(2022, 7, 10, 14, 5), 28836.568359375), (datetime.datetime(2022, 7, 10, 19, 30), None), (datetime.datetime(2022, 7, 10, 19, 20), None), (datetime.datetime(2022, 7, 10, 15, 10), 25692.666015625), (datetime.datetime(2022, 7, 10, 18, 5), None), (datetime.datetime(2022, 7, 10, 19, 25), None), (datetime.datetime(2022, 7, 10, 11, 5), 23298.1328125), (datetime.datetime(2022, 7, 10, 17, 25), None), (datetime.datetime(2022, 7, 10, 11, 0), 22946.798828125), (datetime.datetime(2022, 7, 10, 15, 15), 25261.166015625), (datetime.datetime(2022, 7, 10, 8, 40), 4190), (datetime.datetime(2022, 7, 10, 17, 20), None), (datetime.datetime(2022, 7, 10, 18, 0), None), (datetime.datetime(2022, 7, 10, 0, 50), None), (datetime.datetime(2022, 7, 10, 8, 45), 8693.5), (datetime.datetime(2022, 7, 10, 1, 10), None), (datetime.datetime(2022, 7, 10, 16, 30), None), (datetime.datetime(2022, 7, 10, 0, 55), None), (datetime.datetime(2022, 7, 10, 1, 15), None), (datetime.datetime(2022, 7, 10, 16, 35), None), (datetime.datetime(2022, 7, 10, 19, 15), None), (datetime.datetime(2022, 7, 10, 21, 55), None), (datetime.datetime(2022, 7, 10, 15, 20), 24809.935546875), (datetime.datetime(2022, 7, 10, 19, 10), None), (datetime.datetime(2022, 7, 10, 17, 15), None), (datetime.datetime(2022, 7, 10, 11, 30), 25021.265625), (datetime.datetime(2022, 7, 10, 8, 50), 8362.0498046875), (datetime.datetime(2022, 7, 10, 18, 10), None), (datetime.datetime(2022, 7, 10, 15, 25), 24478.798828125), (datetime.datetime(2022, 7, 10, 10, 35), 20706.833984375), (datetime.datetime(2022, 7, 10, 20, 35), None), (datetime.datetime(2022, 7, 10, 20, 30), None), (datetime.datetime(2022, 7, 10, 18, 15), None), (datetime.datetime(2022, 7, 10, 11, 35), 25502.833984375), (datetime.datetime(2022, 7, 10, 17, 10), None), (datetime.datetime(2022, 7, 10, 17, 55), None), (datetime.datetime(2022, 7, 10, 21, 50), None), (datetime.datetime(2022, 7, 10, 10, 30), 20105.666015625), (datetime.datetime(2022, 7, 10, 14, 20), 28320.53125), (datetime.datetime(2022, 7, 10, 1, 20), None), (datetime.datetime(2022, 7, 10, 17, 50), None), (datetime.datetime(2022, 7, 10, 0, 40), None), (datetime.datetime(2022, 7, 10, 16, 25), None), (datetime.datetime(2022, 7, 10, 8, 55), 10488.7998046875), (datetime.datetime(2022, 7, 10, 1, 25), None), (datetime.datetime(2022, 7, 10, 0, 45), None), (datetime.datetime(2022, 7, 10, 14, 25), 28159.099609375), (datetime.datetime(2022, 7, 10, 16, 20), None), (datetime.datetime(2022, 7, 10, 19, 5), None), (datetime.datetime(2022, 7, 10, 15, 30), 24323.765625), (datetime.datetime(2022, 7, 10, 10, 40), 21240.30078125), (datetime.datetime(2022, 7, 10, 19, 0), None), (datetime.datetime(2022, 7, 10, 17, 5), None), (datetime.datetime(2022, 7, 10, 21, 45), None), (datetime.datetime(2022, 7, 10, 18, 20), None), (datetime.datetime(2022, 7, 10, 17, 40), None), (datetime.datetime(2022, 7, 10, 17, 0), None), (datetime.datetime(2022, 7, 10, 10, 45), 21677.56640625), (datetime.datetime(2022, 7, 10, 20, 45), None), (datetime.datetime(2022, 7, 10, 15, 35), 24155.96875), (datetime.datetime(2022, 7, 10, 11, 20), 24258.865234375), (datetime.datetime(2022, 7, 10, 21, 40), None), (datetime.datetime(2022, 7, 10, 17, 45), None), (datetime.datetime(2022, 7, 10, 20, 40), None), (datetime.datetime(2022, 7, 10, 18, 25), None), (datetime.datetime(2022, 7, 10, 11, 25), 24609.068359375), (datetime.datetime(2022, 7, 10, 1, 30), None), (datetime.datetime(2022, 7, 10, 14, 10), 28732.966796875), (datetime.datetime(2022, 7, 10, 16, 15), 20594.201171875), (datetime.datetime(2022, 7, 10, 0, 30), None), (datetime.datetime(2022, 7, 10, 16, 10), 21008.666015625), (datetime.datetime(2022, 7, 10, 1, 35), None), (datetime.datetime(2022, 7, 10, 0, 35), None), (datetime.datetime(2022, 7, 10, 14, 15), 28528.197265625), (datetime.datetime(2022, 7, 10, 14, 45), 27082.599609375), (datetime.datetime(2022, 7, 10, 0, 10), None), (datetime.datetime(2022, 7, 10, 0, 15), None), (datetime.datetime(2022, 7, 10, 20, 5), None), (datetime.datetime(2022, 7, 10, 14, 40), 27280.033203125), (datetime.datetime(2022, 7, 10, 16, 50), None), (datetime.datetime(2022, 7, 10, 9, 20), 11642.2998046875), (datetime.datetime(2022, 7, 10, 16, 55), None), (datetime.datetime(2022, 7, 10, 20, 10), None), (datetime.datetime(2022, 7, 10, 9, 25), 13906), (datetime.datetime(2022, 7, 10, 11, 45), 26126.431640625), (datetime.datetime(2022, 7, 10, 13, 50), 28841.365234375), (datetime.datetime(2022, 7, 10, 12, 50), 29156.234375), (datetime.datetime(2022, 7, 10, 4, 25), None), (datetime.datetime(2022, 7, 10, 12, 55), 29238.431640625), (datetime.datetime(2022, 7, 10, 4, 20), None), (datetime.datetime(2022, 7, 10, 13, 55), 28922.966796875), (datetime.datetime(2022, 7, 10, 11, 40), 25842.53125), (datetime.datetime(2022, 7, 10, 22, 0), None), (datetime.datetime(2022, 7, 10, 0, 20), None), (datetime.datetime(2022, 7, 10, 14, 35), 27537.267578125), (datetime.datetime(2022, 7, 10, 22, 5), None), (datetime.datetime(2022, 7, 10, 0, 25), None), (datetime.datetime(2022, 7, 10, 9, 30), 14069.849609375), (datetime.datetime(2022, 7, 10, 20, 15), None), (datetime.datetime(2022, 7, 10, 8, 0), 6385.89990234375), (datetime.datetime(2022, 7, 10, 8, 5), 5232.10009765625), (datetime.datetime(2022, 7, 10, 14, 30), 27927.966796875), (datetime.datetime(2022, 7, 10, 13, 40), 29131.568359375), (datetime.datetime(2022, 7, 10, 11, 55), 26397.798828125), (datetime.datetime(2022, 7, 10, 20, 20), None), (datetime.datetime(2022, 7, 10, 9, 35), 14242.06640625), (datetime.datetime(2022, 7, 10, 4, 15), None), (datetime.datetime(2022, 7, 10, 20, 25), None), (datetime.datetime(2022, 7, 10, 4, 10), None), (datetime.datetime(2022, 7, 10, 13, 45), 28990.697265625), (datetime.datetime(2022, 7, 10, 11, 50), 26340.365234375), (datetime.datetime(2022, 7, 10, 7, 10), 1120.25), (datetime.datetime(2022, 7, 10, 19, 50), None), (datetime.datetime(2022, 7, 10, 7, 15), 900.1666870117188), (datetime.datetime(2022, 7, 10, 8, 15), 4115.7001953125), (datetime.datetime(2022, 7, 10, 8, 10), 5540.9501953125), (datetime.datetime(2022, 7, 10, 9, 0), 9259.69921875), (datetime.datetime(2022, 7, 10, 4, 5), None), (datetime.datetime(2022, 7, 10, 13, 30), 29276.701171875), (datetime.datetime(2022, 7, 10, 9, 5), 8544.05078125), (datetime.datetime(2022, 7, 10, 13, 35), 29317.400390625), (datetime.datetime(2022, 7, 10, 2, 0), None), (datetime.datetime(2022, 7, 10, 2, 5), None), (datetime.datetime(2022, 7, 10, 19, 55), None), (datetime.datetime(2022, 7, 10, 4, 0), None), (datetime.datetime(2022, 7, 10, 7, 0), 1419.5), (datetime.datetime(2022, 7, 10, 19, 40), None), (datetime.datetime(2022, 7, 10, 0, 5), None), (datetime.datetime(2022, 7, 10, 0, 0), None), (datetime.datetime(2022, 7, 10, 8, 25), 3485.466796875), (datetime.datetime(2022, 7, 10, 14, 55), 26560.666015625), (datetime.datetime(2022, 7, 10, 7, 5), 1340.3499755859375), (datetime.datetime(2022, 7, 10, 6, 55), 1554.2333984375), (datetime.datetime(2022, 7, 10, 8, 20), 3702.233154296875), (datetime.datetime(2022, 7, 10, 14, 50), 26927.8671875), (datetime.datetime(2022, 7, 10, 6, 50), 1646.9332275390625), (datetime.datetime(2022, 7, 10, 20, 0), None), (datetime.datetime(2022, 7, 10, 9, 10), 6182.533203125), (datetime.datetime(2022, 7, 10, 9, 15), 12639.2998046875), (datetime.datetime(2022, 7, 10, 13, 20), 29108.400390625), (datetime.datetime(2022, 7, 10, 13, 25), 29186.099609375), (datetime.datetime(2022, 7, 10, 19, 45), None), (datetime.datetime(2022, 7, 10, 3, 25), None), (datetime.datetime(2022, 7, 10, 6, 40), 1731.7333984375), (datetime.datetime(2022, 7, 10, 6, 45), 1738.13330078125), (datetime.datetime(2022, 7, 10, 22, 30), None), (datetime.datetime(2022, 7, 10, 5, 20), None), (datetime.datetime(2022, 7, 10, 7, 35), 2735.300048828125), (datetime.datetime(2022, 7, 10, 5, 25), None), (datetime.datetime(2022, 7, 10, 22, 35), None), (datetime.datetime(2022, 7, 10, 7, 30), 1757.5), (datetime.datetime(2022, 7, 10, 3, 20), None), (datetime.datetime(2022, 7, 10, 12, 10), 27704.234375), (datetime.datetime(2022, 7, 10, 13, 15), 28988.099609375), (datetime.datetime(2022, 7, 10, 12, 15), 28123), (datetime.datetime(2022, 7, 10, 2, 25), None), (datetime.datetime(2022, 7, 10, 13, 10), 28724.599609375), (datetime.datetime(2022, 7, 10, 2, 20), None), (datetime.datetime(2022, 7, 10, 3, 35), None), (datetime.datetime(2022, 7, 10, 5, 35), None), (datetime.datetime(2022, 7, 10, 6, 30), 1610.699951171875), (datetime.datetime(2022, 7, 10, 5, 30), None), (datetime.datetime(2022, 7, 10, 6, 35), 1851.4000244140625), (datetime.datetime(2022, 7, 10, 22, 40), None), (datetime.datetime(2022, 7, 10, 22, 45), None), (datetime.datetime(2022, 7, 10, 7, 25), 886.3999633789062), (datetime.datetime(2022, 7, 10, 3, 30), None), (datetime.datetime(2022, 7, 10, 7, 20), 914.7999877929688), (datetime.datetime(2022, 7, 10, 4, 55), None), (datetime.datetime(2022, 7, 10, 13, 5), 28811.466796875), (datetime.datetime(2022, 7, 10, 2, 15), None), (datetime.datetime(2022, 7, 10, 13, 0), 28929.265625), (datetime.datetime(2022, 7, 10, 4, 50), None), (datetime.datetime(2022, 7, 10, 12, 25), 28635.333984375), (datetime.datetime(2022, 7, 10, 2, 10), None), (datetime.datetime(2022, 7, 10, 12, 20), 28396.634765625), (datetime.datetime(2022, 7, 10, 5, 45), None), (datetime.datetime(2022, 7, 10, 6, 25), 1049.4000244140625), (datetime.datetime(2022, 7, 10, 9, 40), 14653.06640625), (datetime.datetime(2022, 7, 10, 5, 0), None), (datetime.datetime(2022, 7, 10, 5, 40), None), (datetime.datetime(2022, 7, 10, 3, 45), None), (datetime.datetime(2022, 7, 10, 6, 20), 623.2999877929688), (datetime.datetime(2022, 7, 10, 7, 55), 4614.39990234375), (datetime.datetime(2022, 7, 10, 5, 5), None), (datetime.datetime(2022, 7, 10, 23, 10), None), (datetime.datetime(2022, 7, 10, 22, 15), None), (datetime.datetime(2022, 7, 10, 22, 10), None), (datetime.datetime(2022, 7, 10, 3, 40), None), (datetime.datetime(2022, 7, 10, 23, 15), None), (datetime.datetime(2022, 7, 10, 2, 45), None), (datetime.datetime(2022, 7, 10, 4, 40), None), (datetime.datetime(2022, 7, 10, 7, 50), 3821.300048828125), (datetime.datetime(2022, 7, 10, 12, 35), 28854.166015625), (datetime.datetime(2022, 7, 10, 4, 45), None), (datetime.datetime(2022, 7, 10, 9, 45), 15154.1669921875), (datetime.datetime(2022, 7, 10, 12, 30), 28729.900390625), (datetime.datetime(2022, 7, 10, 2, 40), None), (datetime.datetime(2022, 7, 10, 5, 55), 0), (datetime.datetime(2022, 7, 10, 6, 10), 86.9000015258789), (datetime.datetime(2022, 7, 10, 5, 10), None), (datetime.datetime(2022, 7, 10, 5, 50), None), (datetime.datetime(2022, 7, 10, 9, 50), 15675.06640625), (datetime.datetime(2022, 7, 10, 23, 0), None), (datetime.datetime(2022, 7, 10, 22, 25), None), (datetime.datetime(2022, 7, 10, 3, 55), None), (datetime.datetime(2022, 7, 10, 5, 15), None), (datetime.datetime(2022, 7, 10, 7, 45), 3106.2333984375), (datetime.datetime(2022, 7, 10, 3, 50), None), (datetime.datetime(2022, 7, 10, 23, 5), None), (datetime.datetime(2022, 7, 10, 6, 15), 298.29998779296875), (datetime.datetime(2022, 7, 10, 22, 20), None), (datetime.datetime(2022, 7, 10, 2, 35), None), (datetime.datetime(2022, 7, 10, 4, 30), None), (datetime.datetime(2022, 7, 10, 12, 45), 29082.568359375), (datetime.datetime(2022, 7, 10, 7, 40), 3224.39990234375), (datetime.datetime(2022, 7, 10, 4, 35), None), (datetime.datetime(2022, 7, 10, 12, 40), 28965.5), (datetime.datetime(2022, 7, 10, 9, 55), 16156.2333984375), (datetime.datetime(2022, 7, 10, 2, 30), None)]\n"
     ]
    }
   ],
   "source": [
    "from datetime import datetime\n",
    "\n",
    "data = []\n",
    "for entry in test2[\"pac\"]:\n",
    "    dt = datetime.strptime(d1 + \" \" + entry, \"%Y-%m-%d %H:%M\")\n",
    "    data.append((dt, test2[\"pac\"][entry]))\n",
    "print(data)"
   ]
  },
  {
   "cell_type": "code",
   "execution_count": 70,
   "id": "10ec433c",
   "metadata": {},
   "outputs": [
    {
     "name": "stdout",
     "output_type": "stream",
     "text": [
      "data uploaded to db\n"
     ]
    }
   ],
   "source": [
    "import psycopg2\n",
    "import psycopg2.extras\n",
    "conn = psycopg2.connect(user=\"jzztvyjdirgomm\", password=\"974386311e9bf8265574baead65862ee677601c0f8e05bc954785e899d86dfaa\", host=\"ec2-34-247-151-118.eu-west-1.compute.amazonaws.com\",port=\"5432\",database=\"djaki03gmcu3o\")\n",
    "cur = conn.cursor()\n",
    "query = \"\"\"INSERT INTO production.power_log (time_stamp, power, farm_id) VALUES (%s, %s, 1)\n",
    "ON CONFLICT (time_stamp) DO UPDATE\n",
    "SET power = EXCLUDED.power\n",
    "\"\"\"\n",
    "psycopg2.extras.execute_batch(cur, query, data)\n",
    "conn.commit()\n",
    "conn.close()\n",
    "print(\"data uploaded to db\")"
   ]
  },
  {
   "cell_type": "code",
   "execution_count": null,
   "id": "a873f938",
   "metadata": {},
   "outputs": [],
   "source": []
  }
 ],
 "metadata": {
  "kernelspec": {
   "display_name": "Python 3 (ipykernel)",
   "language": "python",
   "name": "python3"
  },
  "language_info": {
   "codemirror_mode": {
    "name": "ipython",
    "version": 3
   },
   "file_extension": ".py",
   "mimetype": "text/x-python",
   "name": "python",
   "nbconvert_exporter": "python",
   "pygments_lexer": "ipython3",
   "version": "3.9.7"
  }
 },
 "nbformat": 4,
 "nbformat_minor": 5
}
