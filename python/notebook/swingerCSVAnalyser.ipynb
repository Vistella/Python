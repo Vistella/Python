{
 "cells": [
  {
   "cell_type": "code",
   "execution_count": null,
   "metadata": {
    "scrolled": true
   },
   "outputs": [],
   "source": []
  },
  {
   "cell_type": "code",
   "execution_count": null,
   "metadata": {},
   "outputs": [],
   "source": [
    "import csv\n",
    "import psycopg2\n",
    "conn = psycopg2.connect(user=\"ashkanahmadidastgerdi\", password=\"\", host=\"localhost\",port=\"6543\",database=\"ashkanahmadidastgerdi\")\n",
    "cur = conn.cursor()\n",
    "\n",
    "\n",
    "with open('iv_swinger.csv', \"r\") as csv_file:\n",
    "    csv_reader = csv.DictReader(csv_file, delimiter=',')\n",
    "    for lines in csv_reader:\n",
    "        cur.execute(\n",
    "        \"INSERT INTO production.panel_iv_readings (panel_id, created_At, voltage, current) VALUES (2, now(), %s, %s)\",\n",
    "        (lines['Volts'], lines[' Amps'])\n",
    "    )\n",
    "conn.commit()"
   ]
  },
  {
   "cell_type": "code",
   "execution_count": null,
   "metadata": {},
   "outputs": [],
   "source": [
    "import glob\n",
    "import os\n",
    "\n",
    "while True:\n",
    "    list_of_files = glob.glob('/Users/ashkanahmadidastgerdi/mydev/vistella/core/*') # * means all if need specific format then *.csv\n",
    "    latest_file = max(list_of_files, key=os.path.getctime)\n",
    "    #print(latest_file)"
   ]
  },
  {
   "cell_type": "code",
   "execution_count": null,
   "metadata": {},
   "outputs": [],
   "source": [
    "import os\n",
    "print(os.path.basename(latest_file))\n",
    "a = os.path.basename(latest_file)"
   ]
  },
  {
   "cell_type": "code",
   "execution_count": null,
   "metadata": {},
   "outputs": [],
   "source": [
    "import csv\n",
    "import psycopg2\n",
    "conn = psycopg2.connect(user=\"ashkanahmadidastgerdi\", password=\"\", host=\"localhost\",port=\"6543\",database=\"ashkanahmadidastgerdi\")\n",
    "cur = conn.cursor()\n",
    "\n",
    "\n",
    "with open(a, \"r\") as csv_file:\n",
    "    csv_reader = csv.DictReader(csv_file, delimiter=',')\n",
    "    for lines in csv_reader:\n",
    "        cur.execute(\n",
    "        \"INSERT INTO production.panel_iv_readings (panel_id, created_At, voltage, current) VALUES (3, now(), %s, %s)\",\n",
    "        (lines['Volts'], lines[' Amps'])\n",
    "    )\n",
    "conn.commit()"
   ]
  },
  {
   "cell_type": "code",
   "execution_count": null,
   "metadata": {},
   "outputs": [
    {
     "name": "stdout",
     "output_type": "stream",
     "text": [
      "hey buddy, /Users/ashkanahmadidastgerdi/Library/Application Support/IV_Swinger2/.DS_Store has been modified\n",
      "hey buddy, /Users/ashkanahmadidastgerdi/Library/Application Support/IV_Swinger2 has been modified\n",
      "hey, /Users/ashkanahmadidastgerdi/Library/Application Support/IV_Swinger2/210321_19_31_54 copy 2 has been created!\n",
      "210321_19_31_54 copy 2\n",
      "hey, /Users/ashkanahmadidastgerdi/Library/Application Support/IV_Swinger2/210321_19_31_54 copy 2/iv_swinger2_210321_19_31_54.csv has been created!\n",
      "iv_swinger2_210321_19_31_54.csv\n",
      "hey, /Users/ashkanahmadidastgerdi/Library/Application Support/IV_Swinger2/210321_19_31_54 copy 2/iv_swinger2_210321_19_31_54.gif has been created!\n",
      "iv_swinger2_210321_19_31_54.gif\n",
      "hey, /Users/ashkanahmadidastgerdi/Library/Application Support/IV_Swinger2/210321_19_31_54 copy 2/adc_pairs_210321_19_31_54.csv has been created!\n",
      "adc_pairs_210321_19_31_54.csv\n"
     ]
    },
    {
     "name": "stderr",
     "output_type": "stream",
     "text": [
      "Exception in thread Thread-4:\n",
      "Traceback (most recent call last):\n",
      "  File \"/opt/anaconda3/lib/python3.7/threading.py\", line 926, in _bootstrap_inner\n",
      "    self.run()\n",
      "  File \"/opt/anaconda3/lib/python3.7/site-packages/watchdog/observers/api.py\", line 196, in run\n",
      "    self.dispatch_events(self.event_queue, self.timeout)\n",
      "  File \"/opt/anaconda3/lib/python3.7/site-packages/watchdog/observers/api.py\", line 369, in dispatch_events\n",
      "    handler.dispatch(event)\n",
      "  File \"/opt/anaconda3/lib/python3.7/site-packages/watchdog/events.py\", line 452, in dispatch\n",
      "    super(PatternMatchingEventHandler, self).dispatch(event)\n",
      "  File \"/opt/anaconda3/lib/python3.7/site-packages/watchdog/events.py\", line 336, in dispatch\n",
      "    }[event.event_type](event)\n",
      "  File \"<ipython-input-1-d4c68dccb806>\", line 29, in on_created\n",
      "    (lines['Volts'], lines[' Amps'])\n",
      "KeyError: 'Volts'\n",
      "\n"
     ]
    }
   ],
   "source": [
    "import time\n",
    "import os\n",
    "import csv\n",
    "import psycopg2\n",
    "from watchdog.observers import Observer\n",
    "from watchdog.events import PatternMatchingEventHandler\n",
    "\n",
    "if __name__ == \"__main__\":\n",
    "    patterns = \"*\"\n",
    "    ignore_patterns = \"\"\n",
    "    ignore_directories = False\n",
    "    case_sensitive = True\n",
    "    my_event_handler = PatternMatchingEventHandler(patterns, ignore_patterns, ignore_directories, case_sensitive)\n",
    "    \n",
    "def on_created(event):\n",
    "    print(f\"hey, {event.src_path} has been created!\")   \n",
    "    a = os.path.basename(event.src_path)\n",
    "    print(a)\n",
    "    if a[-3:] == \"csv\" and  :\n",
    "        conn = psycopg2.connect(user=\"ashkanahmadidastgerdi\", password=\"\", host=\"localhost\",port=\"6543\",database=\"ashkanahmadidastgerdi\")\n",
    "        cur = conn.cursor()\n",
    "\n",
    "\n",
    "        with open(event.src_path, \"r\") as csv_file:\n",
    "            csv_reader = csv.DictReader(csv_file, delimiter=',')\n",
    "            for lines in csv_reader:\n",
    "                cur.execute(\n",
    "                \"INSERT INTO production.panel_iv_readings (panel_id, created_At, voltage, current) VALUES (4, now(), %s, %s)\",\n",
    "                (lines['Volts'], lines[' Amps'])\n",
    "            )\n",
    "        conn.commit()\n",
    "    else :\n",
    "        pass\n",
    "\n",
    "def on_deleted(event):\n",
    "    print(f\"what the f**k! Someone deleted {event.src_path}!\")\n",
    "\n",
    "def on_modified(event):\n",
    "    print(f\"hey buddy, {event.src_path} has been modified\")\n",
    "\n",
    "def on_moved(event):\n",
    "    print(f\"ok ok ok, someone moved {event.src_path} to {event.dest_path}\")\n",
    "    \n",
    "my_event_handler.on_created = on_created\n",
    "my_event_handler.on_deleted = on_deleted\n",
    "my_event_handler.on_modified = on_modified\n",
    "my_event_handler.on_moved = on_moved\n",
    "\n",
    "path = \"/Users/ashkanahmadidastgerdi/Library/Application Support/IV_Swinger2\"\n",
    "go_recursively = True\n",
    "my_observer = Observer()\n",
    "my_observer.schedule(my_event_handler, path, recursive=go_recursively)\n",
    "\n",
    "my_observer.start()\n",
    "try:\n",
    "    while True:\n",
    "        time.sleep(1)\n",
    "except KeyboardInterrupt:\n",
    "    my_observer.stop()\n",
    "    my_observer.join()"
   ]
  },
  {
   "cell_type": "code",
   "execution_count": null,
   "metadata": {},
   "outputs": [],
   "source": []
  },
  {
   "cell_type": "code",
   "execution_count": null,
   "metadata": {},
   "outputs": [],
   "source": []
  }
 ],
 "metadata": {
  "kernelspec": {
   "display_name": "Python 3",
   "language": "python",
   "name": "python3"
  },
  "language_info": {
   "codemirror_mode": {
    "name": "ipython",
    "version": 3
   },
   "file_extension": ".py",
   "mimetype": "text/x-python",
   "name": "python",
   "nbconvert_exporter": "python",
   "pygments_lexer": "ipython3",
   "version": "3.7.6"
  }
 },
 "nbformat": 4,
 "nbformat_minor": 4
}
