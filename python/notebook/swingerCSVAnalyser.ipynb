{
 "cells": [
  {
   "cell_type": "code",
   "execution_count": null,
   "metadata": {
    "scrolled": true
   },
   "outputs": [],
   "source": []
  },
  {
   "cell_type": "code",
   "execution_count": null,
   "metadata": {},
   "outputs": [],
   "source": [
    "import csv\n",
    "import psycopg2\n",
    "conn = psycopg2.connect(user=\"ashkanahmadidastgerdi\", password=\"\", host=\"localhost\",port=\"6543\",database=\"ashkanahmadidastgerdi\")\n",
    "cur = conn.cursor()\n",
    "\n",
    "\n",
    "with open('iv_swinger.csv', \"r\") as csv_file:\n",
    "    csv_reader = csv.DictReader(csv_file, delimiter=',')\n",
    "    for lines in csv_reader:\n",
    "        cur.execute(\n",
    "        \"INSERT INTO production.panel_iv_readings (panel_id, created_At, voltage, current) VALUES (2, now(), %s, %s)\",\n",
    "        (lines['Volts'], lines[' Amps'])\n",
    "    )\n",
    "conn.commit()"
   ]
  },
  {
   "cell_type": "code",
   "execution_count": null,
   "metadata": {},
   "outputs": [],
   "source": [
    "import glob\n",
    "import os\n",
    "\n",
    "while True:\n",
    "    list_of_files = glob.glob('/Users/ashkanahmadidastgerdi/mydev/vistella/core/*') # * means all if need specific format then *.csv\n",
    "    latest_file = max(list_of_files, key=os.path.getctime)\n",
    "    #print(latest_file)"
   ]
  },
  {
   "cell_type": "code",
   "execution_count": null,
   "metadata": {},
   "outputs": [],
   "source": [
    "import os\n",
    "print(os.path.basename(latest_file))\n",
    "a = os.path.basename(latest_file)"
   ]
  },
  {
   "cell_type": "code",
   "execution_count": null,
   "metadata": {},
   "outputs": [],
   "source": [
    "import csv\n",
    "import psycopg2\n",
    "conn = psycopg2.connect(user=\"ashkanahmadidastgerdi\", password=\"\", host=\"localhost\",port=\"6543\",database=\"ashkanahmadidastgerdi\")\n",
    "cur = conn.cursor()\n",
    "\n",
    "\n",
    "with open(a, \"r\") as csv_file:\n",
    "    csv_reader = csv.DictReader(csv_file, delimiter=',')\n",
    "    for lines in csv_reader:\n",
    "        cur.execute(\n",
    "        \"INSERT INTO production.panel_iv_readings (panel_id, created_At, voltage, current) VALUES (3, now(), %s, %s)\",\n",
    "        (lines['Volts'], lines[' Amps'])\n",
    "    )\n",
    "conn.commit()"
   ]
  },
  {
   "cell_type": "code",
   "execution_count": null,
   "metadata": {},
   "outputs": [],
   "source": [
    "import time\n",
    "import os\n",
    "import csv\n",
    "import psycopg2\n",
    "from watchdog.observers import Observer\n",
    "from watchdog.events import PatternMatchingEventHandler\n",
    "from tkinter import *\n",
    "\n",
    "if __name__ == \"__main__\":\n",
    "    patterns = \"*\"\n",
    "    ignore_patterns = \"\"\n",
    "    ignore_directories = False\n",
    "    case_sensitive = True\n",
    "    my_event_handler = PatternMatchingEventHandler(patterns, ignore_patterns, ignore_directories, case_sensitive)\n",
    "\n",
    "\n",
    "def clicked():\n",
    "    conn = psycopg2.connect(user=\"ashkanahmadidastgerdi\", password=\"\", host=\"localhost\",port=\"6543\",database=\"ashkanahmadidastgerdi\")\n",
    "    cur = conn.cursor()\n",
    "    with open(event.src_path, \"r\") as csv_file:\n",
    "        csv_reader = csv.DictReader(csv_file, delimiter=',')\n",
    "        for lines in csv_reader:\n",
    "            cur.execute(\"INSERT INTO production.panel_iv_readings (panel_id, created_At, voltage, current) VALUES (4, now(), %s, %s)\",(lines['Volts'], lines[' Amps']))\n",
    "    conn.commit()\n",
    "\n",
    "    window.destroy\n",
    "\n",
    "def clicked_cancel():\n",
    "    pass\n",
    "\n",
    "def on_created(event):\n",
    "    print(f\"hey, {event.src_path} has been created!\")   \n",
    "    a = os.path.basename(event.src_path)\n",
    "    print(a)\n",
    "    if a[-3:] == \"csv\" and a[0:1] == \"iv\" :\n",
    "\n",
    "        #Ask user if the data should be saved and with which panel ID\n",
    "        window = Tk()\n",
    "        window.title(\"Enter panel ID\")\n",
    "        window.geometry('350x200')\n",
    "\n",
    "        lbl = Label(window, text=\"Panel ID:\")\n",
    "        lbl.grid(column=0, row=1)\n",
    "        txt = Entry(window,width=10)\n",
    "        txt.grid(column=1, row=1)\n",
    "        btn_save = Button(window, text=\"Save to DB\", command=clicked)\n",
    "        btn_save.grid(column=2, row=1)\n",
    "        btn_del = Button(window, text=\"Cancel\", command=clicked_cancel)\n",
    "        btn_del.grid(column=3, row=1)\n",
    "        window.mainloop()\n",
    "        \n",
    "    else:\n",
    "        pass\n",
    "\n",
    "def on_deleted(event):\n",
    "    print(f\"what the f**k! Someone deleted {event.src_path}!\")\n",
    "\n",
    "def on_modified(event):\n",
    "    print(f\"hey buddy, {event.src_path} has been modified\")\n",
    "\n",
    "def on_moved(event):\n",
    "    print(f\"ok ok ok, someone moved {event.src_path} to {event.dest_path}\")\n",
    "    \n",
    "my_event_handler.on_created = on_created\n",
    "my_event_handler.on_deleted = on_deleted\n",
    "my_event_handler.on_modified = on_modified\n",
    "my_event_handler.on_moved = on_moved\n",
    "\n",
    "path = \"/Users/ashkanahmadidastgerdi/Library/Application Support/IV_Swinger2\"\n",
    "go_recursively = True\n",
    "my_observer = Observer()\n",
    "my_observer.schedule(my_event_handler, path, recursive=go_recursively)\n",
    "\n",
    "my_observer.start()\n",
    "try:\n",
    "    while True:\n",
    "        time.sleep(1)\n",
    "except KeyboardInterrupt:\n",
    "    my_observer.stop()\n",
    "    my_observer.join()"
   ]
  },
  {
   "cell_type": "code",
   "execution_count": null,
   "metadata": {},
   "outputs": [],
   "source": []
  },
  {
   "cell_type": "code",
   "execution_count": null,
   "metadata": {},
   "outputs": [],
   "source": []
  }
 ],
 "metadata": {
  "kernelspec": {
   "display_name": "Python 3",
   "language": "python",
   "name": "python3"
  },
  "language_info": {
   "codemirror_mode": {
    "name": "ipython",
    "version": 3
   },
   "file_extension": ".py",
   "mimetype": "text/x-python",
   "name": "python",
   "nbconvert_exporter": "python",
   "pygments_lexer": "ipython3",
   "version": "3.7.6"
  }
 },
 "nbformat": 4,
 "nbformat_minor": 4
}