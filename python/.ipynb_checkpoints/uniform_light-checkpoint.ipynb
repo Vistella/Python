{
 "cells": [
  {
   "cell_type": "code",
   "execution_count": 108,
   "metadata": {},
   "outputs": [
    {
     "name": "stdout",
     "output_type": "stream",
     "text": [
      "0.9145577634812085\n",
      "0.5910032866607005\n"
     ]
    },
    {
     "ename": "KeyboardInterrupt",
     "evalue": "",
     "output_type": "error",
     "traceback": [
      "\u001b[1;31m---------------------------------------------------------------------------\u001b[0m",
      "\u001b[1;31mKeyboardInterrupt\u001b[0m                         Traceback (most recent call last)",
      "\u001b[1;32m<ipython-input-108-e47ab83e6df1>\u001b[0m in \u001b[0;36m<module>\u001b[1;34m\u001b[0m\n\u001b[0;32m     24\u001b[0m         \u001b[1;31m#print(r_light_circle)\u001b[0m\u001b[1;33m\u001b[0m\u001b[1;33m\u001b[0m\u001b[1;33m\u001b[0m\u001b[0m\n\u001b[0;32m     25\u001b[0m         \u001b[1;32mfor\u001b[0m \u001b[0mx\u001b[0m \u001b[1;32min\u001b[0m \u001b[0mrange\u001b[0m\u001b[1;33m(\u001b[0m\u001b[0mint\u001b[0m\u001b[1;33m(\u001b[0m\u001b[1;33m-\u001b[0m\u001b[0mr_light_circle\u001b[0m\u001b[1;33m)\u001b[0m\u001b[1;33m,\u001b[0m \u001b[0mint\u001b[0m\u001b[1;33m(\u001b[0m\u001b[0mr_light_circle\u001b[0m\u001b[1;33m)\u001b[0m\u001b[1;33m)\u001b[0m\u001b[1;33m:\u001b[0m\u001b[1;33m\u001b[0m\u001b[1;33m\u001b[0m\u001b[0m\n\u001b[1;32m---> 26\u001b[1;33m             \u001b[1;32mfor\u001b[0m \u001b[0my\u001b[0m \u001b[1;32min\u001b[0m \u001b[0mrange\u001b[0m\u001b[1;33m(\u001b[0m\u001b[0mint\u001b[0m\u001b[1;33m(\u001b[0m\u001b[1;33m-\u001b[0m\u001b[0mr_light_circle\u001b[0m\u001b[1;33m)\u001b[0m\u001b[1;33m,\u001b[0m \u001b[0mint\u001b[0m\u001b[1;33m(\u001b[0m\u001b[0mr_light_circle\u001b[0m\u001b[1;33m)\u001b[0m\u001b[1;33m)\u001b[0m\u001b[1;33m:\u001b[0m\u001b[1;33m\u001b[0m\u001b[1;33m\u001b[0m\u001b[0m\n\u001b[0m\u001b[0;32m     27\u001b[0m                 \u001b[0mdistance\u001b[0m \u001b[1;33m=\u001b[0m \u001b[0mx\u001b[0m\u001b[1;33m**\u001b[0m\u001b[1;36m2\u001b[0m \u001b[1;33m+\u001b[0m \u001b[0my\u001b[0m\u001b[1;33m**\u001b[0m\u001b[1;36m2\u001b[0m\u001b[1;33m\u001b[0m\u001b[1;33m\u001b[0m\u001b[0m\n\u001b[0;32m     28\u001b[0m                 \u001b[0mangle\u001b[0m \u001b[1;33m=\u001b[0m \u001b[0mmath\u001b[0m\u001b[1;33m.\u001b[0m\u001b[0matan\u001b[0m\u001b[1;33m(\u001b[0m\u001b[0mdistance\u001b[0m\u001b[1;33m/\u001b[0m\u001b[0mdistance_light\u001b[0m\u001b[1;33m)\u001b[0m\u001b[1;33m\u001b[0m\u001b[1;33m\u001b[0m\u001b[0m\n",
      "\u001b[1;31mKeyboardInterrupt\u001b[0m: "
     ]
    }
   ],
   "source": [
    "import numpy as np\n",
    "from random import random\n",
    "import math\n",
    "#best_array_small = []\n",
    "#best_array_big = []\n",
    "best_std = 1000\n",
    "\n",
    "distance_light = 80\n",
    "\n",
    "for k in range (0, 1000):\n",
    "    array_big = np.zeros([50,100])\n",
    "    array_small = np.zeros([50,100])\n",
    "    for light in range(0,15):\n",
    "        x_coord = int(random()*100)\n",
    "        y_coord = int(random()*50)\n",
    "        array_big[y_coord, x_coord] = 1\n",
    "        array_big[49 - y_coord, x_coord] = 1\n",
    "        array_big[y_coord, 99 - x_coord] = 1\n",
    "        array_big[49 - y_coord, 99 - x_coord] = 1\n",
    "        \n",
    "        #loop over each \"element\" in small array that will see light at the given distance\n",
    "        light_degrees = 50\n",
    "        r_light_circle = distance_light * math.tan(light_degrees*(math.pi/180))\n",
    "        #print(r_light_circle)\n",
    "        for x in range(int(-r_light_circle), int(r_light_circle)):\n",
    "            for y in range(int(-r_light_circle), int(r_light_circle)):\n",
    "                distance = x**2 + y**2\n",
    "                angle = math.atan(distance/distance_light)\n",
    "                if distance < r_light_circle:\n",
    "                    intensity = round(math.cos(angle)**3,3)\n",
    "                    if (0<=(y_coord + y)<50) and (0<=(x_coord + x)<100):\n",
    "                        array_small[y_coord + y, x_coord + x] += intensity\n",
    "                        array_small[49 - y_coord - y, x_coord + x] += intensity\n",
    "                        array_small[y_coord + y, 99 - x_coord - x] += intensity\n",
    "                        array_small[49 - y_coord - y, 99 - x_coord - x] += intensity\n",
    "    #print(array_small[0:5,0:5])\n",
    "    std = array_small[5:45,10:90].std()\n",
    "    #print(std)\n",
    "    if std < best_std:\n",
    "        best_std = std\n",
    "        best_array_small = array_small\n",
    "        best_array_big = array_big\n",
    "        print(best_std)\n",
    "        \n",
    "#print(array_small[5:25,10:50])\n",
    "sns.heatmap(best_array_small)\n",
    "#sns.heatmap(best_array_big)"
   ]
  },
  {
   "cell_type": "code",
   "execution_count": null,
   "metadata": {},
   "outputs": [],
   "source": []
  },
  {
   "cell_type": "code",
   "execution_count": 2,
   "metadata": {
    "scrolled": true
   },
   "outputs": [],
   "source": [
    "\n"
   ]
  },
  {
   "cell_type": "code",
   "execution_count": 2,
   "metadata": {},
   "outputs": [
    {
     "name": "stdout",
     "output_type": "stream",
     "text": [
      "Radius of light: 21.83821405597214\n"
     ]
    },
    {
     "data": {
      "text/plain": [
       "<matplotlib.axes._subplots.AxesSubplot at 0x11ebbc580>"
      ]
     },
     "execution_count": 2,
     "metadata": {},
     "output_type": "execute_result"
    },
    {
     "data": {
      "image/png": "[encoded data removed]",
      "text/plain": [
       "<Figure size 432x288 with 2 Axes>"
      ]
     },
     "metadata": {
      "needs_background": "light"
     },
     "output_type": "display_data"
    }
   ],
   "source": [
    "#Define Lightbulb Heatmap\n",
    "import numpy as np\n",
    "from random import random\n",
    "import math\n",
    "import seaborn as sns\n",
    "\n",
    "#Distance between lights and class in cm\n",
    "distance_light = 60\n",
    "\n",
    "#loop over each \"element\" in small array that will see light at the given distance\n",
    "light_degrees = 20\n",
    "r_light_circle = distance_light * math.tan(light_degrees*(math.pi/180))\n",
    "print(\"Radius of light: \" + str(r_light_circle))\n",
    "dim_light = int(r_light_circle)\n",
    "intensities = np.zeros([2*dim_light, 2*dim_light])\n",
    "for x in range(int(-r_light_circle), int(r_light_circle)):\n",
    "    for y in range(int(-r_light_circle), int(r_light_circle)):\n",
    "        distance = math.sqrt(x**2 + y**2)\n",
    "        angle = math.atan(distance/distance_light)\n",
    "        angle_deg = angle*180/math.pi\n",
    "        if distance < r_light_circle:\n",
    "            intensity = -0.0199*angle_deg**4 + 0.6398*angle_deg**3 - 8.8605*angle_deg**2 + 12.453*angle_deg + 2178.1\n",
    "            intensities[x + int(-r_light_circle), y + int(-r_light_circle)] = intensity*math.cos(angle)**3\n",
    "            #round(math.cos(angle)**3,3)\n",
    "sns.heatmap(intensities)"
   ]
  },
  {
   "cell_type": "code",
   "execution_count": 5,
   "metadata": {},
   "outputs": [
    {
     "name": "stdout",
     "output_type": "stream",
     "text": [
      "0\n",
      "20332.28901209194\n",
      "1\n",
      "2\n",
      "18935.035374712523\n",
      "3\n",
      "4\n",
      "5\n",
      "18776.46198595103\n",
      "6\n",
      "7\n",
      "16793.612120173777\n",
      "8\n",
      "9\n",
      "10\n",
      "11\n",
      "12\n",
      "13\n",
      "14\n",
      "15\n",
      "16\n",
      "17\n",
      "18\n",
      "19\n",
      "20\n",
      "21\n",
      "22\n",
      "23\n",
      "24\n",
      "25\n",
      "26\n",
      "27\n",
      "28\n",
      "29\n",
      "30\n",
      "31\n",
      "32\n",
      "33\n",
      "34\n",
      "35\n",
      "36\n",
      "37\n",
      "38\n",
      "39\n",
      "40\n",
      "41\n",
      "42\n",
      "43\n",
      "44\n",
      "45\n",
      "46\n",
      "47\n",
      "48\n",
      "49\n",
      "50\n",
      "51\n",
      "52\n",
      "53\n",
      "54\n",
      "55\n",
      "56\n",
      "57\n",
      "58\n",
      "59\n",
      "60\n",
      "61\n",
      "62\n",
      "63\n",
      "64\n",
      "65\n",
      "66\n",
      "67\n",
      "68\n",
      "69\n",
      "70\n",
      "71\n",
      "72\n",
      "73\n",
      "74\n",
      "15895.952787476768\n",
      "75\n",
      "76\n",
      "77\n",
      "78\n",
      "79\n",
      "80\n",
      "81\n",
      "82\n",
      "83\n",
      "84\n",
      "85\n",
      "86\n",
      "87\n",
      "88\n",
      "89\n",
      "90\n",
      "91\n",
      "92\n",
      "93\n",
      "94\n",
      "95\n",
      "96\n",
      "97\n",
      "98\n",
      "99\n"
     ]
    },
    {
     "ename": "TypeError",
     "evalue": "slice indices must be integers or None or have an __index__ method",
     "output_type": "error",
     "traceback": [
      "\u001b[0;31m---------------------------------------------------------------------------\u001b[0m",
      "\u001b[0;31mTypeError\u001b[0m                                 Traceback (most recent call last)",
      "\u001b[0;32m<ipython-input-5-2e907363437f>\u001b[0m in \u001b[0;36m<module>\u001b[0;34m\u001b[0m\n\u001b[1;32m     51\u001b[0m         \u001b[0mbest_array_big\u001b[0m \u001b[0;34m=\u001b[0m \u001b[0marray_big\u001b[0m\u001b[0;34m\u001b[0m\u001b[0;34m\u001b[0m\u001b[0m\n\u001b[1;32m     52\u001b[0m         \u001b[0mprint\u001b[0m\u001b[0;34m(\u001b[0m\u001b[0mbest_std\u001b[0m\u001b[0;34m)\u001b[0m\u001b[0;34m\u001b[0m\u001b[0;34m\u001b[0m\u001b[0m\n\u001b[0;32m---> 53\u001b[0;31m \u001b[0msns\u001b[0m\u001b[0;34m.\u001b[0m\u001b[0mheatmap\u001b[0m\u001b[0;34m(\u001b[0m\u001b[0mbest_array_small\u001b[0m\u001b[0;34m[\u001b[0m\u001b[0moffset_y\u001b[0m\u001b[0;34m-\u001b[0m\u001b[0;36m50\u001b[0m\u001b[0;34m/\u001b[0m\u001b[0;36m5\u001b[0m\u001b[0;34m:\u001b[0m\u001b[0moffset_y\u001b[0m\u001b[0;34m+\u001b[0m\u001b[0;36m50\u001b[0m\u001b[0;34m/\u001b[0m\u001b[0;36m5\u001b[0m\u001b[0;34m,\u001b[0m\u001b[0moffset_x\u001b[0m\u001b[0;34m-\u001b[0m\u001b[0;36m80\u001b[0m\u001b[0;34m/\u001b[0m\u001b[0;36m5\u001b[0m\u001b[0;34m:\u001b[0m\u001b[0moffset_x\u001b[0m\u001b[0;34m+\u001b[0m\u001b[0;36m80\u001b[0m\u001b[0;34m/\u001b[0m\u001b[0;36m5\u001b[0m\u001b[0;34m]\u001b[0m\u001b[0;34m)\u001b[0m\u001b[0;34m\u001b[0m\u001b[0;34m\u001b[0m\u001b[0m\n\u001b[0m\u001b[1;32m     54\u001b[0m \u001b[0mplt\u001b[0m\u001b[0;34m.\u001b[0m\u001b[0mshow\u001b[0m\u001b[0;34m(\u001b[0m\u001b[0;34m)\u001b[0m\u001b[0;34m\u001b[0m\u001b[0;34m\u001b[0m\u001b[0m\n\u001b[1;32m     55\u001b[0m \u001b[0;31m#sns.heatmap(array_small[offset_y-20:offset_y+20,offset_x-40:offset_x+40])\u001b[0m\u001b[0;34m\u001b[0m\u001b[0;34m\u001b[0m\u001b[0;34m\u001b[0m\u001b[0m\n",
      "\u001b[0;31mTypeError\u001b[0m: slice indices must be integers or None or have an __index__ method"
     ]
    }
   ],
   "source": [
    "#Random\n",
    "import matplotlib.pyplot as plt\n",
    "plt.show()\n",
    "\n",
    "best_std = 100000\n",
    "for k in range(0, 100):\n",
    "    print(k)\n",
    "    #Resolution 5cmm\n",
    "    array_big = np.zeros([int(120/5),int(180/5)]) #centre at (49,99)\n",
    "    array_small = np.zeros([int(1000/5),int(1600/5)]) #centre at (499,999)\n",
    "    #calc everything for (0,0) and then move by offsets\n",
    "    offset_y = int(array_small.shape[0]/2-1) \n",
    "    offset_x = int(array_small.shape[1]/2-1) \n",
    "    offset_y_big = int(array_big.shape[0]/2-1)\n",
    "    offset_x_big = int(array_big.shape[1]/2-1)\n",
    "    #print(offset_y, offset_x)\n",
    "    for light in range(0,20):\n",
    "        x_coord = int(random()*offset_x_big) #random x coord for 1 quadrant\n",
    "        y_coord = int(random()*offset_y_big) #random y coord for 1 quadrant\n",
    "        #mark location of light bulbs\n",
    "        a = offset_y_big + y_coord\n",
    "        b = offset_x_big + x_coord\n",
    "        c = offset_x_big - x_coord\n",
    "        d = offset_y_big - y_coord\n",
    "        \n",
    "        array_big[a, b ] = 1\n",
    "        array_big[a, c] = 1\n",
    "        array_big[d, b] = 1\n",
    "        array_big[d, c] = 1\n",
    "        #sns.heatmap(array_big)\n",
    "        \n",
    "        a2 = offset_y + y_coord\n",
    "        b2 = offset_x + x_coord\n",
    "        c2 = offset_x - x_coord\n",
    "        d2 = offset_y - y_coord\n",
    "        \n",
    "        #add the intensity matrix on top of existing intensity (small_array)\n",
    "        #find indices to slice 2d small_array\n",
    "        array_small[a2-dim_light:a2+dim_light, b2-dim_light:b2+dim_light] += intensities\n",
    "        array_small[a2-dim_light:a2+dim_light, c2-dim_light:c2+dim_light] += intensities\n",
    "        array_small[d2-dim_light:d2+dim_light, b2-dim_light:b2+dim_light] += intensities\n",
    "        array_small[d2-dim_light:d2+dim_light, c2-dim_light:c2+dim_light] += intensities\n",
    "       \n",
    "        \n",
    "        #sns.heatmap(best_array_small[offset_y-20:offset_y+20,offset_x-40:offset_x+40])\n",
    "    #std = array_small[offset_y-20:offset_y+20,offset_x-40:offset_x+40].std()\n",
    "    std = array_small[offset_y-int(50/5):offset_y+int(50/5),offset_x-int(80/5):offset_x+int(80/5)].std()\n",
    "    if std < best_std:\n",
    "        best_std = std\n",
    "        best_array_small = array_small\n",
    "        best_array_big = array_big\n",
    "        print(best_std)\n",
    "sns.heatmap(best_array_small[offset_y-50/5:offset_y+50/5,offset_x-80/5:offset_x+80/5])\n",
    "plt.show()\n",
    "#sns.heatmap(array_small[offset_y-20:offset_y+20,offset_x-40:offset_x+40])\n",
    "\n",
    "#sns.heatmap(best_array_big)"
   ]
  },
  {
   "cell_type": "code",
   "execution_count": 411,
   "metadata": {},
   "outputs": [
    {
     "data": {
      "image/png": "[encoded data removed]",
      "text/plain": [
       "<Figure size 432x288 with 2 Axes>"
      ]
     },
     "metadata": {
      "needs_background": "light"
     },
     "output_type": "display_data"
    }
   ],
   "source": [
    "sns.heatmap(best_array_big)\n",
    "np.savetxt(\"big_array.csv\", best_array_big, delimiter = \",\")"
   ]
  },
  {
   "cell_type": "code",
   "execution_count": null,
   "metadata": {},
   "outputs": [],
   "source": [
    "#All possibilities\n",
    "import matplotlib.pyplot as plt\n",
    "plt.show()\n",
    "\n",
    "best_std = 10000\n",
    "for k in range(0, 100):\n",
    "    array_big = np.zeros([120,180]) #centre at (49,99)\n",
    "    array_small = np.zeros([1000,1600]) #centre at (499,999)\n",
    "    #calc everything for (0,0) and then move by offsets\n",
    "    offset_y = int(array_small.shape[0]/2-1) \n",
    "    offset_x = int(array_small.shape[1]/2-1) \n",
    "    offset_y_big = int(array_big.shape[0]/2-1)\n",
    "    offset_x_big = int(array_big.shape[1]/2-1)\n",
    "    #print(offset_y, offset_x)\n",
    "    for light in range(0,20):\n",
    "        x_coord = int(random()*offset_x_big) #random x coord for 1 quadrant\n",
    "        y_coord = int(random()*offset_y_big) #random y coord for 1 quadrant\n",
    "        #mark location of light bulbs\n",
    "        a = offset_y_big + y_coord\n",
    "        b = offset_x_big + x_coord\n",
    "        c = offset_x_big - x_coord\n",
    "        d = offset_y_big - y_coord\n",
    "        \n",
    "        array_big[a, b ] = 1\n",
    "        array_big[a, c] = 1\n",
    "        array_big[d, b] = 1\n",
    "        array_big[d, c] = 1\n",
    "        #sns.heatmap(array_big)\n",
    "        \n",
    "        a2 = offset_y + y_coord\n",
    "        b2 = offset_x + x_coord\n",
    "        c2 = offset_x - x_coord\n",
    "        d2 = offset_y - y_coord\n",
    "        \n",
    "        #add the intensity matrix on top of existing intensity (small_array)\n",
    "        #find indices to slice 2d small_array\n",
    "        array_small[a2-dim_light:a2+dim_light, b2-dim_light:b2+dim_light] += intensities\n",
    "        array_small[a2-dim_light:a2+dim_light, c2-dim_light:c2+dim_light] += intensities\n",
    "        array_small[d2-dim_light:d2+dim_light, b2-dim_light:b2+dim_light] += intensities\n",
    "        array_small[d2-dim_light:d2+dim_light, c2-dim_light:c2+dim_light] += intensities\n",
    "       \n",
    "        \n",
    "        #sns.heatmap(best_array_small[offset_y-20:offset_y+20,offset_x-40:offset_x+40])\n",
    "    #std = array_small[offset_y-20:offset_y+20,offset_x-40:offset_x+40].std()\n",
    "    std = array_small[offset_y-50:offset_y+50,offset_x-80:offset_x+80].std()\n",
    "    if std < best_std:\n",
    "        best_std = std\n",
    "        best_array_small = array_small\n",
    "        best_array_big = array_big\n",
    "        print(best_std)\n",
    "    sns.heatmap(best_array_small[offset_y-50:offset_y+50,offset_x-80:offset_x+80])\n",
    "    plt.show()\n",
    "#sns.heatmap(array_small[offset_y-20:offset_y+20,offset_x-40:offset_x+40])\n",
    "\n",
    "#sns.heatmap(best_array_big)"
   ]
  },
  {
   "cell_type": "code",
   "execution_count": 22,
   "metadata": {},
   "outputs": [],
   "source": [
    "import itertools\n",
    "\n",
    "locations = []\n",
    "for x in range(0,12):\n",
    "    for y in range(0,16):\n",
    "        locations.append([x,y])\n"
   ]
  }
 ],
 "metadata": {
  "kernelspec": {
   "display_name": "Python 3",
   "language": "python",
   "name": "python3"
  },
  "language_info": {
   "codemirror_mode": {
    "name": "ipython",
    "version": 3
   },
   "file_extension": ".py",
   "mimetype": "text/x-python",
   "name": "python",
   "nbconvert_exporter": "python",
   "pygments_lexer": "ipython3",
   "version": "3.8.2"
  }
 },
 "nbformat": 4,
 "nbformat_minor": 4
}
