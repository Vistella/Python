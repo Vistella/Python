{
 "cells": [
  {
   "cell_type": "code",
   "execution_count": 40,
   "id": "10ba603c",
   "metadata": {},
   "outputs": [],
   "source": [
    "import psycopg2\n",
    "from PIL import ImageTk, Image\n",
    "import base64\n",
    "import io"
   ]
  },
  {
   "cell_type": "code",
   "execution_count": 12,
   "id": "252e5e32",
   "metadata": {},
   "outputs": [],
   "source": [
    "f = open('logo.png','rb')\n",
    "filedata = f.read()\n",
    "binary = psycopg2.Binary(filedata)"
   ]
  },
  {
   "cell_type": "code",
   "execution_count": 13,
   "id": "ebb5bb7e",
   "metadata": {},
   "outputs": [],
   "source": [
    "conn = psycopg2.connect(user=\"ukvuowsb\", password=\"xOy8nq3xddLpXCYoioU2q1r9O_0iFkkt\", host=\"tai.db.elephantsql.com\",port=\"5432\",database=\"ukvuowsb\")\n",
    "cur = conn.cursor()\n",
    "query = \"\"\"INSERT INTO production.string_el_image (file_data, string_id) VALUES (%s, %s)\"\"\"\n",
    "cur.execute(query, (binary, \"2\"))\n",
    "conn.commit()\n",
    "conn.close()"
   ]
  },
  {
   "cell_type": "code",
   "execution_count": 21,
   "id": "33b6047c",
   "metadata": {},
   "outputs": [],
   "source": [
    "conn = psycopg2.connect(user=\"ukvuowsb\", password=\"xOy8nq3xddLpXCYoioU2q1r9O_0iFkkt\", host=\"tai.db.elephantsql.com\",port=\"5432\",database=\"ukvuowsb\")\n",
    "cur = conn.cursor()\n",
    "query = \"\"\"SELECT file_data FROM production.string_el_image WHERE string_id = 2\"\"\"\n",
    "\n",
    "cur.execute(query)\n",
    "result = cur.fetchall()\n",
    "colnames = [desc[0] for desc in cur.description]\n",
    "conn.close()"
   ]
  },
  {
   "cell_type": "code",
   "execution_count": 49,
   "id": "3d0ab3c6",
   "metadata": {},
   "outputs": [],
   "source": [
    "base64_img = result[0][0].tobytes() "
   ]
  },
  {
   "cell_type": "code",
   "execution_count": 50,
   "id": "d14f81bc",
   "metadata": {},
   "outputs": [],
   "source": [
    "image = Image.open(io.BytesIO(base64_img))\n",
    "image.show()"
   ]
  },
  {
   "cell_type": "code",
   "execution_count": null,
   "id": "a7b27b5b",
   "metadata": {},
   "outputs": [],
   "source": []
  }
 ],
 "metadata": {
  "kernelspec": {
   "display_name": "Python 3 (ipykernel)",
   "language": "python",
   "name": "python3"
  },
  "language_info": {
   "codemirror_mode": {
    "name": "ipython",
    "version": 3
   },
   "file_extension": ".py",
   "mimetype": "text/x-python",
   "name": "python",
   "nbconvert_exporter": "python",
   "pygments_lexer": "ipython3",
   "version": "3.9.7"
  }
 },
 "nbformat": 4,
 "nbformat_minor": 5
}
