{
 "cells": [
  {
   "cell_type": "code",
   "execution_count": 2,
   "id": "saving-chosen",
   "metadata": {},
   "outputs": [],
   "source": [
    "import qrcode\n",
    "\n",
    "for x in range(51,501):\n",
    "    \n",
    "    panel_id = x\n",
    "    s1 = f'{panel_id:05d}'\n",
    "    length = 14\n",
    "    qr = qrcode.QRCode(\n",
    "        version=1,\n",
    "        error_correction=qrcode.constants.ERROR_CORRECT_L,\n",
    "        box_size= length,\n",
    "        border=0,\n",
    "    )\n",
    "    qr.add_data(s1)\n",
    "    qr.make(fit=True)\n",
    "\n",
    "    img = qr.make_image(fill_color=\"black\", back_color=\"white\")\n",
    "\n",
    "    from IPython.display import Image \n",
    "    from PIL import Image\n",
    "    from PIL import ImageFont\n",
    "    from PIL import ImageDraw\n",
    "    from PIL import ImageOps\n",
    "\n",
    "    font = ImageFont.truetype(\"/Library/Fonts/Microsoft/Arial.ttf\",30)\n",
    "\n",
    "    background = Image.open(\"SolarPanelLabel.png\")\n",
    "    txt=Image.new('L', (220,50))\n",
    "    d = ImageDraw.Draw(txt)\n",
    "    d.text( (0, 0), \"panel_id \" + s1,  font=font, fill=255)\n",
    "    w=txt.rotate(90,  expand=1)\n",
    "\n",
    "    background.paste(img, (720-22*length, 1141-22*length))\n",
    "    draw = ImageDraw.Draw(background)\n",
    "    #draw.text((720-100, 1141-5),\"HELOOSLSLLSLS\",(0,0,0),font=font)\n",
    "    background.paste(ImageOps.colorize(w, (0,0,0), (0,0,0)), (720-25*length, 1141-280),  w)\n",
    "    #background.show()\n",
    "    background = background.save(s1 + \".pdf\")"
   ]
  },
  {
   "cell_type": "code",
   "execution_count": 3,
   "id": "nonprofit-syndication",
   "metadata": {},
   "outputs": [],
   "source": [
    "from PyPDF2 import PdfFileMerger\n",
    "pdfs = [f'{panel_id:05d}' + \".pdf\" for panel_id in range(701,1001)]\n",
    "\n",
    "merger = PdfFileMerger()\n",
    "\n",
    "for pdf in pdfs:\n",
    "    merger.append(pdf)\n",
    "\n",
    "merger.write(\"result2.pdf\")\n",
    "merger.close()"
   ]
  },
  {
   "cell_type": "code",
   "execution_count": null,
   "id": "warming-china",
   "metadata": {},
   "outputs": [],
   "source": []
  }
 ],
 "metadata": {
  "kernelspec": {
   "display_name": "Python 3 (ipykernel)",
   "language": "python",
   "name": "python3"
  },
  "language_info": {
   "codemirror_mode": {
    "name": "ipython",
    "version": 3
   },
   "file_extension": ".py",
   "mimetype": "text/x-python",
   "name": "python",
   "nbconvert_exporter": "python",
   "pygments_lexer": "ipython3",
   "version": "3.9.7"
  }
 },
 "nbformat": 4,
 "nbformat_minor": 5
}
